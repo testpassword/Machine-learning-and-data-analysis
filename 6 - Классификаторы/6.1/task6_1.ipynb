{
 "cells": [
  {
   "cell_type": "code",
   "execution_count": 50,
   "metadata": {},
   "outputs": [],
   "source": [
    "import pandas as pd\n",
    "import math"
   ]
  },
  {
   "cell_type": "code",
   "execution_count": 51,
   "metadata": {},
   "outputs": [
    {
     "data": {
      "text/html": [
       "<div>\n",
       "<style scoped>\n",
       "    .dataframe tbody tr th:only-of-type {\n",
       "        vertical-align: middle;\n",
       "    }\n",
       "\n",
       "    .dataframe tbody tr th {\n",
       "        vertical-align: top;\n",
       "    }\n",
       "\n",
       "    .dataframe thead th {\n",
       "        text-align: right;\n",
       "    }\n",
       "</style>\n",
       "<table border=\"1\" class=\"dataframe\">\n",
       "  <thead>\n",
       "    <tr style=\"text-align: right;\">\n",
       "      <th></th>\n",
       "      <th>Type</th>\n",
       "      <th>Spam</th>\n",
       "      <th>Ham</th>\n",
       "    </tr>\n",
       "  </thead>\n",
       "  <tbody>\n",
       "    <tr>\n",
       "      <th>0</th>\n",
       "      <td>Email</td>\n",
       "      <td>20</td>\n",
       "      <td>26</td>\n",
       "    </tr>\n",
       "    <tr>\n",
       "      <th>1</th>\n",
       "      <td>Words</td>\n",
       "      <td>157</td>\n",
       "      <td>116</td>\n",
       "    </tr>\n",
       "  </tbody>\n",
       "</table>\n",
       "</div>"
      ],
      "text/plain": [
       "    Type   Spam   Ham\n",
       "0  Email     20    26\n",
       "1  Words    157   116"
      ]
     },
     "execution_count": 51,
     "metadata": {},
     "output_type": "execute_result"
    }
   ],
   "source": [
    "info = pd.read_csv(\"data.csv\")\n",
    "info"
   ]
  },
  {
   "cell_type": "code",
   "execution_count": 52,
   "metadata": {},
   "outputs": [
    {
     "data": {
      "text/html": [
       "<div>\n",
       "<style scoped>\n",
       "    .dataframe tbody tr th:only-of-type {\n",
       "        vertical-align: middle;\n",
       "    }\n",
       "\n",
       "    .dataframe tbody tr th {\n",
       "        vertical-align: top;\n",
       "    }\n",
       "\n",
       "    .dataframe thead th {\n",
       "        text-align: right;\n",
       "    }\n",
       "</style>\n",
       "<table border=\"1\" class=\"dataframe\">\n",
       "  <thead>\n",
       "    <tr style=\"text-align: right;\">\n",
       "      <th></th>\n",
       "      <th>Word</th>\n",
       "      <th>Spam</th>\n",
       "      <th>ham</th>\n",
       "    </tr>\n",
       "  </thead>\n",
       "  <tbody>\n",
       "    <tr>\n",
       "      <th>0</th>\n",
       "      <td>Investment</td>\n",
       "      <td>1</td>\n",
       "      <td>3</td>\n",
       "    </tr>\n",
       "    <tr>\n",
       "      <th>1</th>\n",
       "      <td>Membership</td>\n",
       "      <td>2</td>\n",
       "      <td>3</td>\n",
       "    </tr>\n",
       "    <tr>\n",
       "      <th>2</th>\n",
       "      <td>Access</td>\n",
       "      <td>0</td>\n",
       "      <td>0</td>\n",
       "    </tr>\n",
       "    <tr>\n",
       "      <th>3</th>\n",
       "      <td>Bill</td>\n",
       "      <td>5</td>\n",
       "      <td>2</td>\n",
       "    </tr>\n",
       "    <tr>\n",
       "      <th>4</th>\n",
       "      <td>Online</td>\n",
       "      <td>8</td>\n",
       "      <td>0</td>\n",
       "    </tr>\n",
       "    <tr>\n",
       "      <th>5</th>\n",
       "      <td>Bonus</td>\n",
       "      <td>0</td>\n",
       "      <td>10</td>\n",
       "    </tr>\n",
       "    <tr>\n",
       "      <th>6</th>\n",
       "      <td>Prize</td>\n",
       "      <td>19</td>\n",
       "      <td>13</td>\n",
       "    </tr>\n",
       "    <tr>\n",
       "      <th>7</th>\n",
       "      <td>Free</td>\n",
       "      <td>10</td>\n",
       "      <td>23</td>\n",
       "    </tr>\n",
       "    <tr>\n",
       "      <th>8</th>\n",
       "      <td>Remove</td>\n",
       "      <td>44</td>\n",
       "      <td>4</td>\n",
       "    </tr>\n",
       "    <tr>\n",
       "      <th>9</th>\n",
       "      <td>Refund</td>\n",
       "      <td>68</td>\n",
       "      <td>58</td>\n",
       "    </tr>\n",
       "  </tbody>\n",
       "</table>\n",
       "</div>"
      ],
      "text/plain": [
       "         Word  Spam   ham\n",
       "0  Investment     1     3\n",
       "1  Membership     2     3\n",
       "2      Access     0     0\n",
       "3        Bill     5     2\n",
       "4      Online     8     0\n",
       "5       Bonus     0    10\n",
       "6       Prize    19    13\n",
       "7        Free    10    23\n",
       "8      Remove    44     4\n",
       "9      Refund    68    58"
      ]
     },
     "execution_count": 52,
     "metadata": {},
     "output_type": "execute_result"
    }
   ],
   "source": [
    "words = pd.read_csv(\"words.csv\")\n",
    "words"
   ]
  },
  {
   "cell_type": "code",
   "execution_count": 53,
   "metadata": {},
   "outputs": [],
   "source": [
    "arr_words = \" Coupon Offer Gift Cash Free Purchase Prize\".split()"
   ]
  },
  {
   "cell_type": "code",
   "execution_count": 54,
   "metadata": {
    "scrolled": false
   },
   "outputs": [
    {
     "name": "stdout",
     "output_type": "stream",
     "text": [
      "Email is spam: 0.43478260869565216\n",
      "Email is spam ln: -0.832909122935104\n",
      "{'Remove': 45, 'Million': 1, 'Bonus': 1, 'Access': 1, 'Online': 9, 'Money': 1, 'Bill': 6}\n",
      "Total words marked spam: 167\n",
      "Y_spam_ln: -28.8632192735178\n"
     ]
    }
   ],
   "source": [
    "email_row = info.iloc[0]\n",
    "email_spam = email_row[1] / (email_row[2] + email_row[1])\n",
    "print(\"Email is spam: {}\".format(email_spam))\n",
    "ln_email_spam = math.log(email_spam)\n",
    "print(\"Email is spam ln: {}\".format(ln_email_spam))\n",
    "freq_spam = dict()\n",
    "for i in arr_words:\n",
    "    have = False\n",
    "    for j in range(words.shape[0]):\n",
    "        if i == words.iloc[j][0]:\n",
    "            have = True\n",
    "            freq_spam[words.iloc[j][0]] = words.iloc[j][1] + 1\n",
    "    if not have:\n",
    "        freq_spam[i] = 1\n",
    "print(freq_spam)\n",
    "total_spam_words = words.shape[0]\n",
    "for i in range(words.shape[0]):\n",
    "    total_spam_words += words.iloc[i][1]\n",
    "print(\"Total words marked spam: {}\".format(total_spam_words))\n",
    "y_spam = ln_email_spam\n",
    "for i in arr_words:\n",
    "    y_spam += math.log(freq_spam[i]/total_spam_words)\n",
    "print(\"Y_spam_ln: {}\".format(y_spam))\n"
   ]
  },
  {
   "cell_type": "code",
   "execution_count": 55,
   "metadata": {
    "scrolled": false
   },
   "outputs": [
    {
     "name": "stdout",
     "output_type": "stream",
     "text": [
      "Email is not spam: 0.5652173913043478\n",
      "Email is ham ln: -0.570544858467613\n",
      "{'Remove': 5, 'Million': 1, 'Bonus': 11, 'Access': 1, 'Online': 1, 'Money': 1, 'Bill': 3}\n",
      "10\n",
      "Total words marked ham: 126\n",
      "Y_not_spam_ln: -29.318572733227377\n"
     ]
    }
   ],
   "source": [
    "email_row = info.iloc[0]\n",
    "email_not_spam = email_row[2]/ (email_row[2] + email_row[1])\n",
    "print(\"Email is not spam: {}\".format(email_not_spam))\n",
    "ln_email_not_spam = math.log(email_not_spam)\n",
    "print(\"Email is ham ln: {}\".format(ln_email_not_spam))\n",
    "freq_not_spam = dict()\n",
    "for i in arr_words:\n",
    "    have = False\n",
    "    for j in range(words.shape[0]):\n",
    "        if i == words.iloc[j][0]:\n",
    "            have = True\n",
    "            freq_not_spam[words.iloc[j][0]] = words.iloc[j][2] + 1\n",
    "    if not have:\n",
    "        freq_not_spam[i] = 1\n",
    "print(freq_not_spam)\n",
    "total_not_spam_words = words.shape[0]\n",
    "print(total_not_spam_words)\n",
    "for i in range(words.shape[0]):\n",
    "    total_not_spam_words += words.iloc[i][2]\n",
    "print(\"Total words marked ham: {}\".format(total_not_spam_words))\n",
    "y_not_spam = ln_email_not_spam\n",
    "for i in arr_words:\n",
    "    y_not_spam += math.log(freq_not_spam[i]/total_not_spam_words)\n",
    "print(\"Y_not_spam_ln: {}\".format(y_not_spam))"
   ]
  },
  {
   "cell_type": "code",
   "execution_count": 56,
   "metadata": {},
   "outputs": [
    {
     "name": "stdout",
     "output_type": "stream",
     "text": [
      "Prediction: 0.612\n",
      "Email is spam probability: 0.435\n"
     ]
    }
   ],
   "source": [
    "p = 1 / (1 + math.exp(y_not_spam - y_spam))\n",
    "print(\"Prediction: {}\".format(round(p, 3)))\n",
    "print(\"Email is spam probability: {}\".format(round(email_spam, 3)))"
   ]
  },
  {
   "cell_type": "code",
   "execution_count": 63,
   "metadata": {},
   "outputs": [
    {
     "name": "stdout",
     "output_type": "stream",
     "text": [
      "ln Posterior probability of spam: -28.863\n"
     ]
    }
   ],
   "source": [
    "posterior_spam = 0\n",
    "for amount in freq_spam.values():\n",
    "    posterior_spam += amount / total_spam_words\n",
    "print(\"ln Posterior probability of spam: {}\".format(round(y_spam, 3)))"
   ]
  },
  {
   "cell_type": "code",
   "execution_count": 64,
   "metadata": {},
   "outputs": [
    {
     "name": "stdout",
     "output_type": "stream",
     "text": [
      "ln Posterior probability of spam: -29.319\n"
     ]
    }
   ],
   "source": [
    "posterior_not_spam = 0\n",
    "for amount in freq_not_spam.values():\n",
    "    posterior_not_spam += amount / total_not_spam_words\n",
    "print(\"ln Posterior probability of not spam: {}\".format(round(y_not_spam, 3)))"
   ]
  }
 ],
 "metadata": {
  "kernelspec": {
   "display_name": "Python 3",
   "language": "python",
   "name": "python3"
  },
  "language_info": {
   "codemirror_mode": {
    "name": "ipython",
    "version": 3
   },
   "file_extension": ".py",
   "mimetype": "text/x-python",
   "name": "python",
   "nbconvert_exporter": "python",
   "pygments_lexer": "ipython3",
   "version": "3.7.7"
  }
 },
 "nbformat": 4,
 "nbformat_minor": 2
}