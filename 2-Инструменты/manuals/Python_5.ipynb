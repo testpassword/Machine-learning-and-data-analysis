{
 "cells": [
  {
   "cell_type": "markdown",
   "metadata": {
    "collapsed": true
   },
   "source": [
    "# Машинное обучение и анализ данных\n",
    "\n",
    "## Высшая Школа Цифровой Культуры"
   ]
  },
  {
   "cell_type": "markdown",
   "metadata": {},
   "source": [
    "## Структуры данных в Python. Словари"
   ]
  },
  {
   "cell_type": "code",
   "execution_count": 1,
   "metadata": {},
   "outputs": [],
   "source": [
    "person = {'name': 'Степан', 'gender': 'муж.', 'age': 20}"
   ]
  },
  {
   "cell_type": "code",
   "execution_count": 2,
   "metadata": {},
   "outputs": [],
   "source": [
    "cars = {2: 'ВАЗ', '3': 'HONDA', 3: 'ИЖ'}"
   ]
  },
  {
   "cell_type": "code",
   "execution_count": 3,
   "metadata": {},
   "outputs": [
    {
     "name": "stdout",
     "output_type": "stream",
     "text": [
      "ИЖ\n",
      "HONDA\n"
     ]
    },
    {
     "ename": "KeyError",
     "evalue": "0",
     "output_type": "error",
     "traceback": [
      "\u001b[0;31m---------------------------------------------------------------------------\u001b[0m",
      "\u001b[0;31mKeyError\u001b[0m                                  Traceback (most recent call last)",
      "\u001b[0;32m<ipython-input-3-d390c4a4fd51>\u001b[0m in \u001b[0;36m<module>\u001b[0;34m\u001b[0m\n\u001b[1;32m      2\u001b[0m \u001b[0mprint\u001b[0m\u001b[0;34m(\u001b[0m\u001b[0mcars\u001b[0m\u001b[0;34m[\u001b[0m\u001b[0;36m3\u001b[0m\u001b[0;34m]\u001b[0m\u001b[0;34m)\u001b[0m \u001b[0;31m#Вывод ИЖ\u001b[0m\u001b[0;34m\u001b[0m\u001b[0m\n\u001b[1;32m      3\u001b[0m \u001b[0mprint\u001b[0m\u001b[0;34m(\u001b[0m\u001b[0mcars\u001b[0m\u001b[0;34m[\u001b[0m\u001b[0;34m'3'\u001b[0m\u001b[0;34m]\u001b[0m\u001b[0;34m)\u001b[0m \u001b[0;31m#Вывод HONDA\u001b[0m\u001b[0;34m\u001b[0m\u001b[0m\n\u001b[0;32m----> 4\u001b[0;31m \u001b[0mprint\u001b[0m\u001b[0;34m(\u001b[0m\u001b[0mcars\u001b[0m\u001b[0;34m[\u001b[0m\u001b[0;36m0\u001b[0m\u001b[0;34m]\u001b[0m\u001b[0;34m)\u001b[0m \u001b[0;31m#Вывод KeyError: 0\u001b[0m\u001b[0;34m\u001b[0m\u001b[0m\n\u001b[0m",
      "\u001b[0;31mKeyError\u001b[0m: 0"
     ]
    }
   ],
   "source": [
    "cars = {2: 'ВАЗ', '3': 'HONDA', 3: 'ИЖ'}\n",
    "print(cars[3]) #Вывод ИЖ\n",
    "print(cars['3']) #Вывод HONDA\n",
    "print(cars[0]) #Вывод KeyError: 0"
   ]
  },
  {
   "cell_type": "code",
   "execution_count": 4,
   "metadata": {},
   "outputs": [],
   "source": [
    "person = {'name': 'Степан', 'gender': 'муж.', 'age': 20}\n",
    "person['surname'] = 'Степанов' #Добавление пары 'surname': 'Степанов'"
   ]
  },
  {
   "cell_type": "code",
   "execution_count": 5,
   "metadata": {},
   "outputs": [
    {
     "data": {
      "text/plain": [
       "{'name': 'Степан', 'gender': 'муж.', 'age': 20, 'surname': 'Степанов'}"
      ]
     },
     "execution_count": 5,
     "metadata": {},
     "output_type": "execute_result"
    }
   ],
   "source": [
    "person"
   ]
  },
  {
   "cell_type": "code",
   "execution_count": 6,
   "metadata": {},
   "outputs": [],
   "source": [
    "person['age'] = 21 #Изменение значения для ключа age"
   ]
  },
  {
   "cell_type": "code",
   "execution_count": 7,
   "metadata": {},
   "outputs": [
    {
     "data": {
      "text/plain": [
       "{'name': 'Степан', 'gender': 'муж.', 'age': 21, 'surname': 'Степанов'}"
      ]
     },
     "execution_count": 7,
     "metadata": {},
     "output_type": "execute_result"
    }
   ],
   "source": [
    "person"
   ]
  },
  {
   "cell_type": "code",
   "execution_count": 8,
   "metadata": {},
   "outputs": [],
   "source": [
    "del(person['age']) #Удаление пары ключ-значение"
   ]
  },
  {
   "cell_type": "code",
   "execution_count": 9,
   "metadata": {},
   "outputs": [
    {
     "data": {
      "text/plain": [
       "{'name': 'Степан', 'gender': 'муж.', 'surname': 'Степанов'}"
      ]
     },
     "execution_count": 9,
     "metadata": {},
     "output_type": "execute_result"
    }
   ],
   "source": [
    "person"
   ]
  },
  {
   "cell_type": "code",
   "execution_count": 10,
   "metadata": {},
   "outputs": [
    {
     "name": "stdout",
     "output_type": "stream",
     "text": [
      "Ключ:  name\n",
      "Значение:  Степан\n",
      "Ключ:  gender\n",
      "Значение:  муж.\n",
      "Ключ:  age\n",
      "Значение:  20\n"
     ]
    }
   ],
   "source": [
    "person = {'name': 'Степан', 'gender': 'муж.', 'age': 20}\n",
    "for key, value in person.items():\n",
    "    print('Ключ: ', key)\n",
    "    print('Значение: ', value)"
   ]
  },
  {
   "cell_type": "code",
   "execution_count": 15,
   "metadata": {},
   "outputs": [],
   "source": [
    "favorite_fruit = {'Дима': 'персик',\n",
    "                  'Алексей': 'манго',\n",
    "                  'Елена': 'яблоко',\n",
    "                  'Антон': 'ананас'}"
   ]
  },
  {
   "cell_type": "code",
   "execution_count": 16,
   "metadata": {},
   "outputs": [
    {
     "name": "stdout",
     "output_type": "stream",
     "text": [
      "Дима любит есть персик\n",
      "Алексей любит есть манго\n",
      "Елена любит есть яблоко\n",
      "Антон любит есть ананас\n"
     ]
    }
   ],
   "source": [
    "for name, fruit in favorite_fruit.items():\n",
    "    print(name, 'любит есть', fruit)"
   ]
  },
  {
   "cell_type": "code",
   "execution_count": 17,
   "metadata": {},
   "outputs": [
    {
     "name": "stdout",
     "output_type": "stream",
     "text": [
      "Дима\n",
      "Алексей\n",
      "Елена\n",
      "Антон\n"
     ]
    }
   ],
   "source": [
    "for name in favorite_fruit.keys():\n",
    "    print(name)"
   ]
  },
  {
   "cell_type": "code",
   "execution_count": 18,
   "metadata": {},
   "outputs": [
    {
     "name": "stdout",
     "output_type": "stream",
     "text": [
      "Ольга, Вы не приняли участие в опросе!\n"
     ]
    }
   ],
   "source": [
    "if 'Ольга' not in favorite_fruit.keys():\n",
    "    print('Ольга, Вы не приняли участие в опросе!')"
   ]
  },
  {
   "cell_type": "code",
   "execution_count": 19,
   "metadata": {},
   "outputs": [
    {
     "name": "stdout",
     "output_type": "stream",
     "text": [
      "персик\n",
      "манго\n",
      "яблоко\n",
      "ананас\n"
     ]
    }
   ],
   "source": [
    "for fruit in favorite_fruit.values():\n",
    "    print(fruit)"
   ]
  },
  {
   "cell_type": "code",
   "execution_count": 20,
   "metadata": {},
   "outputs": [
    {
     "name": "stdout",
     "output_type": "stream",
     "text": [
      "яблоко\n",
      "манго\n",
      "персик\n",
      "ананас\n"
     ]
    }
   ],
   "source": [
    "for fruit in set(favorite_fruit.values()):\n",
    "    print(fruit)"
   ]
  },
  {
   "cell_type": "code",
   "execution_count": 21,
   "metadata": {},
   "outputs": [
    {
     "name": "stdout",
     "output_type": "stream",
     "text": [
      "Ключ:  age\n",
      "Значение:  20\n",
      "Ключ:  gender\n",
      "Значение:  муж.\n",
      "Ключ:  name\n",
      "Значение:  Степан\n"
     ]
    }
   ],
   "source": [
    "person = {'name': 'Степан', 'gender': 'муж.', 'age': 20}\n",
    "for key, value in sorted(person.items()):\n",
    "    print('Ключ: ', key)\n",
    "    print('Значение: ', value)"
   ]
  }
 ],
 "metadata": {
  "kernelspec": {
   "display_name": "Python 3.6",
   "language": "python",
   "name": "python36"
  },
  "language_info": {
   "codemirror_mode": {
    "name": "ipython",
    "version": 3
   },
   "file_extension": ".py",
   "mimetype": "text/x-python",
   "name": "python",
   "nbconvert_exporter": "python",
   "pygments_lexer": "ipython3",
   "version": "3.6.6"
  }
 },
 "nbformat": 4,
 "nbformat_minor": 2
}
