{
 "cells": [
  {
   "cell_type": "markdown",
   "metadata": {
    "collapsed": true
   },
   "source": [
    "# Машинное обучение и анализ данных\n",
    "\n",
    "## Высшая Школа Цифровой Культуры"
   ]
  },
  {
   "cell_type": "markdown",
   "metadata": {},
   "source": [
    "## Основы Python"
   ]
  },
  {
   "cell_type": "raw",
   "metadata": {},
   "source": [
    "За вывод данных на экран отвечает команда print()."
   ]
  },
  {
   "cell_type": "code",
   "execution_count": 1,
   "metadata": {},
   "outputs": [
    {
     "name": "stdout",
     "output_type": "stream",
     "text": [
      "5\n",
      "Привет!\n",
      "True\n",
      "False\n"
     ]
    }
   ],
   "source": [
    "#Выводим на экран числовое значение 5\n",
    "print(5)\n",
    "#Выводим на экран строковое значение 'Привет!'\n",
    "print('Привет!')\n",
    "#Выводим на экран булевские значения True и False\n",
    "print(True)\n",
    "print(False)"
   ]
  },
  {
   "cell_type": "raw",
   "metadata": {},
   "source": [
    "Присваивание значений и некоторые операции"
   ]
  },
  {
   "cell_type": "code",
   "execution_count": 2,
   "metadata": {},
   "outputs": [
    {
     "name": "stdout",
     "output_type": "stream",
     "text": [
      "13\n"
     ]
    }
   ],
   "source": [
    "#Переменной a присваивается значение 5\n",
    "a = 5\n",
    "#Переменной b присваивается значение 8\n",
    "b = 8\n",
    "#Переменной result присваивается значение суммы a + b\n",
    "result = a + b\n",
    "#Выводим на экран значение, содержащееся в переменной result\n",
    "print(result)"
   ]
  },
  {
   "cell_type": "markdown",
   "metadata": {},
   "source": [
    "### Арифметические операции"
   ]
  },
  {
   "cell_type": "code",
   "execution_count": 3,
   "metadata": {},
   "outputs": [
    {
     "name": "stdout",
     "output_type": "stream",
     "text": [
      "8.6\n",
      "1.4\n",
      "6\n",
      "9.2\n",
      "3.0\n",
      "2.5\n",
      "1\n",
      "25\n",
      "2\n"
     ]
    }
   ],
   "source": [
    "print(5 + 3.6) #8.6\n",
    "print(5 - 3.6) #1.4\n",
    "print(3 * 2) #6\n",
    "print(2.3 * 4) #9.2\n",
    "print(15 / 5) #3\n",
    "print(5 / 2) #2.5\n",
    "print(5 % 2) #1\n",
    "print(5 ** 2) #25\n",
    "print(5 // 2) #2"
   ]
  },
  {
   "cell_type": "markdown",
   "metadata": {},
   "source": [
    "### Операции сравнения"
   ]
  },
  {
   "cell_type": "code",
   "execution_count": 4,
   "metadata": {},
   "outputs": [
    {
     "name": "stdout",
     "output_type": "stream",
     "text": [
      "True\n",
      "False\n",
      "True\n",
      "True\n",
      "True\n",
      "True\n"
     ]
    }
   ],
   "source": [
    "print(5 == 5) #True\n",
    "print(6 == 5) #False\n",
    "print(6 != 5) #True\n",
    "print('hi' == 'hi') #True\n",
    "print(5 > 3) #True\n",
    "print(5 >= 5) #True"
   ]
  },
  {
   "cell_type": "code",
   "execution_count": 5,
   "metadata": {},
   "outputs": [
    {
     "name": "stdout",
     "output_type": "stream",
     "text": [
      "True\n",
      "True\n"
     ]
    }
   ],
   "source": [
    "print('1' < 'a') #True\n",
    "print('1' < 'AB') #True"
   ]
  },
  {
   "cell_type": "code",
   "execution_count": 6,
   "metadata": {},
   "outputs": [
    {
     "name": "stdout",
     "output_type": "stream",
     "text": [
      "True\n",
      "True\n",
      "False\n",
      "False\n"
     ]
    }
   ],
   "source": [
    "print('A' < 'b') #True\n",
    "print('A' < 'B') #True\n",
    "print('B' < 'A') #False\n",
    "print('a' < 'B') #False"
   ]
  },
  {
   "cell_type": "code",
   "execution_count": 7,
   "metadata": {},
   "outputs": [
    {
     "name": "stdout",
     "output_type": "stream",
     "text": [
      "True\n"
     ]
    }
   ],
   "source": [
    "print('1abc' < 'F5bc') #True"
   ]
  },
  {
   "cell_type": "code",
   "execution_count": 8,
   "metadata": {},
   "outputs": [
    {
     "name": "stdout",
     "output_type": "stream",
     "text": [
      "False\n"
     ]
    }
   ],
   "source": [
    "print('1abc' < '15bc') #False"
   ]
  },
  {
   "cell_type": "markdown",
   "metadata": {},
   "source": [
    "### Логические операции"
   ]
  },
  {
   "cell_type": "code",
   "execution_count": 9,
   "metadata": {},
   "outputs": [
    {
     "name": "stdout",
     "output_type": "stream",
     "text": [
      "True\n",
      "False\n",
      "True\n",
      "True\n",
      "True\n",
      "True\n"
     ]
    }
   ],
   "source": [
    "print(True and True) #True\n",
    "print(True and True and False) #False\n",
    "print(True or True or False) #True\n",
    "print(not False) #True\n",
    "print((5 > 4) and (6 > 4)) #True\n",
    "print((5 > 4) and (6 > 4) or (3 > 4)) #True"
   ]
  },
  {
   "cell_type": "markdown",
   "metadata": {},
   "source": [
    "### Операция принадлежности"
   ]
  },
  {
   "cell_type": "code",
   "execution_count": 10,
   "metadata": {},
   "outputs": [
    {
     "name": "stdout",
     "output_type": "stream",
     "text": [
      "True\n",
      "False\n",
      "True\n",
      "True\n"
     ]
    }
   ],
   "source": [
    "print(1 in [1, 2, 3, 4]) #True\n",
    "print(1 in [2, 3, 4, 5]) #False\n",
    "print('crocodile' not in ['cat', 'dog']) #True\n",
    "print('oco' in 'crocodile') #True"
   ]
  },
  {
   "cell_type": "markdown",
   "metadata": {},
   "source": [
    "### Приоритет операций"
   ]
  },
  {
   "cell_type": "code",
   "execution_count": 11,
   "metadata": {},
   "outputs": [
    {
     "name": "stdout",
     "output_type": "stream",
     "text": [
      "17\n",
      "2.0\n",
      "512\n"
     ]
    }
   ],
   "source": [
    "print(5 + 4 * 3) #Вывод: 17\n",
    "print(20 / 2 / 5) #Вывод: 2\n",
    "print(2 ** 3 ** 2) #Вывод: 512"
   ]
  },
  {
   "cell_type": "code",
   "execution_count": 12,
   "metadata": {},
   "outputs": [
    {
     "name": "stdout",
     "output_type": "stream",
     "text": [
      "33.0\n",
      "False\n",
      "True\n",
      "-9\n",
      "9\n",
      "True\n",
      "True\n"
     ]
    }
   ],
   "source": [
    "print(33 / 7 * 7) #Вывод: 33\n",
    "print(3 > 1 + 2 and 3 < 1 + 2) #Вывод: False\n",
    "print(3 > 1 + 2 and 3 < 1 + 2 or True) #Вывод: True\n",
    "print(-3 ** 2) #Вывод: -9\n",
    "print((-3) ** 2) #Вывод: 9\n",
    "print(5 % 3 in [1, 2, 3]) #Вывод: True\n",
    "print(True and False in [False, False])  #Вывод: True"
   ]
  },
  {
   "cell_type": "markdown",
   "metadata": {},
   "source": [
    "## Операторы"
   ]
  },
  {
   "cell_type": "markdown",
   "metadata": {},
   "source": [
    "### if"
   ]
  },
  {
   "cell_type": "code",
   "execution_count": 13,
   "metadata": {},
   "outputs": [
    {
     "name": "stdout",
     "output_type": "stream",
     "text": [
      "Значение a меньше 12\n",
      "Продолжение\n"
     ]
    }
   ],
   "source": [
    "#Переменной a присваивается значение 10\n",
    "a = 10\n",
    "#Проверка условия (если a меньше 12)\n",
    "if a < 12: \n",
    "    #Выполняется, если условие истинно\n",
    "    print('Значение a меньше 12')\n",
    "#Выполняется после завершения условного оператора\n",
    "print('Продолжение')"
   ]
  },
  {
   "cell_type": "markdown",
   "metadata": {},
   "source": [
    "### if - else"
   ]
  },
  {
   "cell_type": "code",
   "execution_count": 14,
   "metadata": {},
   "outputs": [
    {
     "name": "stdout",
     "output_type": "stream",
     "text": [
      "Значение a меньше 12\n",
      "Продолжение\n"
     ]
    }
   ],
   "source": [
    "#Переменной a присваивается значение 10\n",
    "a = 10\n",
    "#Проверка условия (если a меньше 12)\n",
    "if a < 12: \n",
    "    #Выполняется, если условие истинно\n",
    "    print('Значение a меньше 12')\n",
    "else: \n",
    "    #Выполняется, если условие ложно\n",
    "    print('Значение a не меньше 12')\n",
    "#Выполняется после завершения условного оператора\n",
    "print('Продолжение')"
   ]
  },
  {
   "cell_type": "markdown",
   "metadata": {},
   "source": [
    "### if - elif - else"
   ]
  },
  {
   "cell_type": "code",
   "execution_count": 15,
   "metadata": {},
   "outputs": [
    {
     "name": "stdout",
     "output_type": "stream",
     "text": [
      "Значение a от 10 включительно до 20 не включительно\n",
      "Продолжение\n"
     ]
    }
   ],
   "source": [
    "a = 10\n",
    "if a >= 0 and a < 10: \n",
    "    print('Значение a от 0 включительно до 10 не включительно')\n",
    "elif a >= 10 and a < 20:\n",
    "    print('Значение a от 10 включительно до 20 не включительно')\n",
    "elif a >= 20 and a <= 40:\n",
    "    print('Значение a от 20 включительно до 40 включительно')\n",
    "else: \n",
    "    print('Значение a отрицательно или больше 40')\n",
    "print('Продолжение')"
   ]
  },
  {
   "cell_type": "markdown",
   "metadata": {},
   "source": [
    "Рассмотрим еще один пример кода на условный оператор, позволяющий решить простейшую школьную задачку -- найти корни квадратного уравнения. Пусть $a, b, c$ — известные коэффициенты в квадратном уравнении $ax^2+bx+c=0$, тогда код программы может быть следующим:"
   ]
  },
  {
   "cell_type": "code",
   "execution_count": 16,
   "metadata": {},
   "outputs": [
    {
     "name": "stdout",
     "output_type": "stream",
     "text": [
      "Вещественных корней нет\n",
      "Конец\n"
     ]
    }
   ],
   "source": [
    "a = 1 \n",
    "b = -2\n",
    "c = 2\n",
    "if a != 0: #Проверяем, является ли уравнение квадратным\n",
    "    disc = b ** 2 - 4 * a * c #Вычисляем дискриминант\n",
    "    if disc < 0: #Что делать, если дискриминант отрицательный\n",
    "        print('Вещественных корней нет')\n",
    "    elif disc == 0: #Что делать, если дискриминант равен нулю\n",
    "        x = -b / (2 * a)\n",
    "        print('Двойной корень x =', x)\n",
    "    else: #Что делать, если дискриминант положительный\n",
    "        print ('Два вещественных корня:')\n",
    "        x_1 = (-b + disc ** 0.5) / (2 * a)\n",
    "        x_2 = (-b - disc ** 0.5) / (2 * a)\n",
    "        print('x_1 =', x_1)\n",
    "        print('x_2 =', x_2)\n",
    "else: #Относится к самому первому условию if a != 0: и регламентирует, что делать, если условие оказалось ложным\n",
    "    #Что делать, если a == 0, т.е. уравнение не квадратное\n",
    "    print('Уравнение не является квадратным') \n",
    "print('Конец') #Выводится всегда, так как не относится ни к одному из условий, и находится внутри тела основной программы."
   ]
  },
  {
   "cell_type": "markdown",
   "metadata": {},
   "source": [
    "### for"
   ]
  },
  {
   "cell_type": "code",
   "execution_count": 17,
   "metadata": {},
   "outputs": [
    {
     "name": "stdout",
     "output_type": "stream",
     "text": [
      "4\n",
      "20\n",
      "-3\n",
      "word\n",
      "Конец цикла\n"
     ]
    }
   ],
   "source": [
    "for i in 4, 20, -3, 'word': \n",
    "    print(i)\n",
    "print('Конец цикла')"
   ]
  },
  {
   "cell_type": "code",
   "execution_count": 18,
   "metadata": {},
   "outputs": [
    {
     "name": "stdout",
     "output_type": "stream",
     "text": [
      "Сумма =  15\n"
     ]
    }
   ],
   "source": [
    "sum = 0\n",
    "for i in 1, 2, 3, 4, 5:\n",
    "    sum += i\n",
    "#Выполняется после завершения оператора цикла\n",
    "print('Сумма = ', sum)"
   ]
  },
  {
   "cell_type": "markdown",
   "metadata": {},
   "source": [
    "### while"
   ]
  },
  {
   "cell_type": "code",
   "execution_count": 19,
   "metadata": {},
   "outputs": [
    {
     "name": "stdout",
     "output_type": "stream",
     "text": [
      "0\n",
      "1\n",
      "2\n",
      "3\n",
      "4\n",
      "Конец цикла\n"
     ]
    }
   ],
   "source": [
    "i = 0 #Задаем начальное значение переменной\n",
    "while i < 5: #Условие выполнения цикла\n",
    "    print(i) #Вывод на экран значения переменной i\n",
    "    i += 1 #Наращивая переменную i, обеспечиваем выход из цикла\n",
    "print('Конец цикла')#Выполняется после завершения цикла"
   ]
  },
  {
   "cell_type": "code",
   "execution_count": 20,
   "metadata": {},
   "outputs": [
    {
     "name": "stdout",
     "output_type": "stream",
     "text": [
      "Переменная i = 10 Конец цикла.\n",
      "Сумма квадратов:  285\n"
     ]
    }
   ],
   "source": [
    "i = 0\n",
    "sum_sq = 0\n",
    "while i < 10:\n",
    "    sum_sq += i ** 2\n",
    "    i += 1\n",
    "else:\n",
    "    print('Переменная i =', i, 'Конец цикла.')\n",
    "print('Сумма квадратов: ', sum_sq)"
   ]
  },
  {
   "cell_type": "markdown",
   "metadata": {},
   "source": [
    "### Бесконечный while"
   ]
  },
  {
   "cell_type": "raw",
   "metadata": {},
   "source": [
    "i = 0\n",
    "while True: #Условие всегда истинно, поэтому цикл будет повторяться бесконечно\n",
    "    print(i)\n",
    "    i += 1 #Наращиваем переменную i\n",
    "print('Конец цикла')#Не будет выполнено никогда"
   ]
  },
  {
   "cell_type": "markdown",
   "metadata": {},
   "source": [
    "### continue и break"
   ]
  },
  {
   "cell_type": "code",
   "execution_count": 22,
   "metadata": {},
   "outputs": [
    {
     "name": "stdout",
     "output_type": "stream",
     "text": [
      "1\n",
      "3\n",
      "5\n",
      "Конец цикла\n"
     ]
    }
   ],
   "source": [
    "i = 1\n",
    "while i < 10:\n",
    "    print(i)\n",
    "    i += 2\n",
    "    if i == 7:\n",
    "        break\n",
    "else:\n",
    "    print('Переменная i =', i)\n",
    "print('Конец цикла')"
   ]
  },
  {
   "cell_type": "code",
   "execution_count": 23,
   "metadata": {},
   "outputs": [
    {
     "name": "stdout",
     "output_type": "stream",
     "text": [
      "1\n",
      "Прерывание внутреннего цикла\n",
      "Конец итерации внешнего цикла\n",
      "2\n",
      "4\n",
      "Прерывание внутреннего цикла\n",
      "Конец итерации внешнего цикла\n",
      "3\n",
      "6\n",
      "9\n",
      "Прерывание внутреннего цикла\n",
      "Конец итерации внешнего цикла\n",
      "4\n",
      "8\n",
      "12\n",
      "16\n",
      "Прерывание внутреннего цикла\n",
      "Конец итерации внешнего цикла\n",
      "5\n",
      "10\n",
      "15\n",
      "20\n",
      "25\n",
      "Прерывание внутреннего цикла\n",
      "Конец итерации внешнего цикла\n",
      "6\n",
      "12\n",
      "18\n",
      "24\n",
      "30\n",
      "36\n",
      "Прерывание внутреннего цикла\n",
      "Конец итерации внешнего цикла\n",
      "7\n",
      "14\n",
      "21\n",
      "28\n",
      "35\n",
      "42\n",
      "49\n",
      "Прерывание внутреннего цикла\n",
      "Конец итерации внешнего цикла\n",
      "8\n",
      "16\n",
      "24\n",
      "32\n",
      "40\n",
      "48\n",
      "56\n",
      "64\n",
      "Прерывание внутреннего цикла\n",
      "Конец итерации внешнего цикла\n",
      "9\n",
      "18\n",
      "27\n",
      "36\n",
      "45\n",
      "54\n",
      "63\n",
      "72\n",
      "81\n",
      "Прерывание внутреннего цикла\n",
      "Конец итерации внешнего цикла\n",
      "10\n",
      "20\n",
      "30\n",
      "40\n",
      "50\n",
      "60\n",
      "70\n",
      "80\n",
      "90\n",
      "100\n",
      "Прерывание внутреннего цикла\n",
      "Конец итерации внешнего цикла\n",
      "Конец цикла\n"
     ]
    }
   ],
   "source": [
    "i = 1\n",
    "while i <= 10:\n",
    "    j = 1\n",
    "    while True:\n",
    "        print(i * j)\n",
    "        j += 1\n",
    "        if j > i:\n",
    "            print('Прерывание внутреннего цикла')\n",
    "            break\n",
    "    i += 1\n",
    "    print('Конец итерации внешнего цикла')\n",
    "print('Конец цикла')"
   ]
  },
  {
   "cell_type": "code",
   "execution_count": 24,
   "metadata": {},
   "outputs": [
    {
     "name": "stdout",
     "output_type": "stream",
     "text": [
      "1\n",
      "2\n",
      "4\n",
      "5\n",
      "6\n",
      "7\n",
      "8\n",
      "9\n",
      "10\n"
     ]
    }
   ],
   "source": [
    "i = 1\n",
    "while i <= 10:\n",
    "    if i == 3:\n",
    "        i += 1\n",
    "        continue\n",
    "    print(i)\n",
    "    i += 1"
   ]
  },
  {
   "cell_type": "code",
   "execution_count": null,
   "metadata": {},
   "outputs": [],
   "source": []
  }
 ],
 "metadata": {
  "kernelspec": {
   "display_name": "Python 3.6",
   "language": "python",
   "name": "python36"
  },
  "language_info": {
   "codemirror_mode": {
    "name": "ipython",
    "version": 3
   },
   "file_extension": ".py",
   "mimetype": "text/x-python",
   "name": "python",
   "nbconvert_exporter": "python",
   "pygments_lexer": "ipython3",
   "version": "3.6.6"
  }
 },
 "nbformat": 4,
 "nbformat_minor": 2
}
