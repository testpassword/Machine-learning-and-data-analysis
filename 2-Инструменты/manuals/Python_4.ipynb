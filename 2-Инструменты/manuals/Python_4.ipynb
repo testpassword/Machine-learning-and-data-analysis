{
 "cells": [
  {
   "cell_type": "markdown",
   "metadata": {
    "collapsed": true
   },
   "source": [
    "# Машинное обучение и анализ данных\n",
    "\n",
    "## Высшая Школа Цифровой Культуры"
   ]
  },
  {
   "cell_type": "markdown",
   "metadata": {},
   "source": [
    "## Структуры данных в Python. Списки"
   ]
  },
  {
   "cell_type": "code",
   "execution_count": 1,
   "metadata": {},
   "outputs": [],
   "source": [
    "names = [] #Пустой список\n",
    "age = [13, 28, 30, 12, 45] #Список с заданными элементами"
   ]
  },
  {
   "cell_type": "code",
   "execution_count": 2,
   "metadata": {},
   "outputs": [
    {
     "data": {
      "text/plain": [
       "[13, 28, 30, 12, 45]"
      ]
     },
     "execution_count": 2,
     "metadata": {},
     "output_type": "execute_result"
    }
   ],
   "source": [
    "age #Вывод всех значений списка"
   ]
  },
  {
   "cell_type": "code",
   "execution_count": 3,
   "metadata": {},
   "outputs": [],
   "source": [
    "age.append(4) #Добавить значение 4 в список age"
   ]
  },
  {
   "cell_type": "code",
   "execution_count": 4,
   "metadata": {},
   "outputs": [
    {
     "data": {
      "text/plain": [
       "[13, 28, 30, 12, 45, 4]"
      ]
     },
     "execution_count": 4,
     "metadata": {},
     "output_type": "execute_result"
    }
   ],
   "source": [
    "age"
   ]
  },
  {
   "cell_type": "code",
   "execution_count": 5,
   "metadata": {},
   "outputs": [],
   "source": [
    "age.extend([30, 12, 45]) #Добавить значения 30, 12, 45 в конец списка age"
   ]
  },
  {
   "cell_type": "code",
   "execution_count": 6,
   "metadata": {},
   "outputs": [
    {
     "data": {
      "text/plain": [
       "[13, 28, 30, 12, 45, 4, 30, 12, 45]"
      ]
     },
     "execution_count": 6,
     "metadata": {},
     "output_type": "execute_result"
    }
   ],
   "source": [
    "age"
   ]
  },
  {
   "cell_type": "code",
   "execution_count": 10,
   "metadata": {},
   "outputs": [
    {
     "name": "stdout",
     "output_type": "stream",
     "text": [
      "cat\n",
      "9.3\n"
     ]
    },
    {
     "ename": "IndexError",
     "evalue": "list index out of range",
     "output_type": "error",
     "traceback": [
      "\u001b[0;31m---------------------------------------------------------------------------\u001b[0m",
      "\u001b[0;31mIndexError\u001b[0m                                Traceback (most recent call last)",
      "\u001b[0;32m<ipython-input-10-892da9fc6bdc>\u001b[0m in \u001b[0;36m<module>\u001b[0;34m\u001b[0m\n\u001b[1;32m      3\u001b[0m \u001b[0mnumbers\u001b[0m \u001b[0;34m=\u001b[0m \u001b[0;34m[\u001b[0m\u001b[0;36m1\u001b[0m\u001b[0;34m,\u001b[0m \u001b[0;36m5.2\u001b[0m\u001b[0;34m,\u001b[0m \u001b[0;36m6\u001b[0m\u001b[0;34m,\u001b[0m \u001b[0;36m9.3\u001b[0m\u001b[0;34m]\u001b[0m\u001b[0;34m\u001b[0m\u001b[0m\n\u001b[1;32m      4\u001b[0m \u001b[0mprint\u001b[0m\u001b[0;34m(\u001b[0m\u001b[0mnumbers\u001b[0m\u001b[0;34m[\u001b[0m\u001b[0;36m3\u001b[0m\u001b[0;34m]\u001b[0m\u001b[0;34m)\u001b[0m\u001b[0;34m\u001b[0m\u001b[0m\n\u001b[0;32m----> 5\u001b[0;31m \u001b[0mprint\u001b[0m\u001b[0;34m(\u001b[0m\u001b[0mnumbers\u001b[0m\u001b[0;34m[\u001b[0m\u001b[0;36m5\u001b[0m\u001b[0;34m]\u001b[0m\u001b[0;34m)\u001b[0m\u001b[0;34m\u001b[0m\u001b[0m\n\u001b[0m",
      "\u001b[0;31mIndexError\u001b[0m: list index out of range"
     ]
    }
   ],
   "source": [
    "pet = ['cat', 'dog', 'pig']\n",
    "print(pet[0]) \n",
    "numbers = [1, 5.2, 6, 9.3]\n",
    "print(numbers[3]) \n",
    "print(numbers[5])"
   ]
  },
  {
   "cell_type": "raw",
   "metadata": {},
   "source": [
    "Примеры вывода и срезов"
   ]
  },
  {
   "cell_type": "code",
   "execution_count": 15,
   "metadata": {},
   "outputs": [
    {
     "data": {
      "text/plain": [
       "[13, 28, 30, 12, 45, 4, 30, 12, 45]"
      ]
     },
     "execution_count": 15,
     "metadata": {},
     "output_type": "execute_result"
    }
   ],
   "source": [
    "age"
   ]
  },
  {
   "cell_type": "code",
   "execution_count": 11,
   "metadata": {},
   "outputs": [
    {
     "data": {
      "text/plain": [
       "13"
      ]
     },
     "execution_count": 11,
     "metadata": {},
     "output_type": "execute_result"
    }
   ],
   "source": [
    "age[0] #Вывод элемента с индексом 0"
   ]
  },
  {
   "cell_type": "code",
   "execution_count": 12,
   "metadata": {},
   "outputs": [
    {
     "data": {
      "text/plain": [
       "[28, 30]"
      ]
     },
     "execution_count": 12,
     "metadata": {},
     "output_type": "execute_result"
    }
   ],
   "source": [
    "age[1:3] #Вывод элементов с индексами 1 и 2"
   ]
  },
  {
   "cell_type": "code",
   "execution_count": 13,
   "metadata": {},
   "outputs": [
    {
     "data": {
      "text/plain": [
       "[13, 28, 30]"
      ]
     },
     "execution_count": 13,
     "metadata": {},
     "output_type": "execute_result"
    }
   ],
   "source": [
    "age[:3] #Вывод элементов с начала списка до элемента с индексом 3 не включительно"
   ]
  },
  {
   "cell_type": "code",
   "execution_count": 14,
   "metadata": {},
   "outputs": [
    {
     "data": {
      "text/plain": [
       "[30, 12, 45, 4, 30, 12, 45]"
      ]
     },
     "execution_count": 14,
     "metadata": {},
     "output_type": "execute_result"
    }
   ],
   "source": [
    "age[2:] #Вывод элементов с элемента с индексом 2 включительно до конца списка"
   ]
  },
  {
   "cell_type": "code",
   "execution_count": 16,
   "metadata": {},
   "outputs": [],
   "source": [
    "age_part = age[1:3] #Новый список из элементов с индексами 1 и 2"
   ]
  },
  {
   "cell_type": "code",
   "execution_count": 17,
   "metadata": {},
   "outputs": [
    {
     "data": {
      "text/plain": [
       "[28, 30]"
      ]
     },
     "execution_count": 17,
     "metadata": {},
     "output_type": "execute_result"
    }
   ],
   "source": [
    "age_part"
   ]
  },
  {
   "cell_type": "code",
   "execution_count": 18,
   "metadata": {},
   "outputs": [
    {
     "name": "stdout",
     "output_type": "stream",
     "text": [
      "[28, 13, 30, 45]\n"
     ]
    }
   ],
   "source": [
    "age = [13, 28, 13, 30, 45] #Список с заданными элементами\n",
    "age.remove(13) #Удаление первого элемента списка, равного 13\n",
    "print(age) #Вывод [28, 13, 30, 45]"
   ]
  },
  {
   "cell_type": "code",
   "execution_count": 19,
   "metadata": {},
   "outputs": [
    {
     "name": "stdout",
     "output_type": "stream",
     "text": [
      "[13, 28, 13, 45]\n"
     ]
    }
   ],
   "source": [
    "age = [13, 28, 13, 30, 45] #Список с заданными элементами\n",
    "del age[3] #Удаление элемента списка с индексом 3\n",
    "print(age) #Вывод [13, 28, 13, 45]"
   ]
  },
  {
   "cell_type": "code",
   "execution_count": 20,
   "metadata": {},
   "outputs": [
    {
     "name": "stdout",
     "output_type": "stream",
     "text": [
      "[13, 28, 13, 99, 45]\n"
     ]
    }
   ],
   "source": [
    "age = [13, 28, 13, 30, 45] #Список с заданными элементами\n",
    "age[3] = 99 #Изменение элемента с индексом 3\n",
    "print(age) #Вывод [13, 28, 13, 99, 45]"
   ]
  },
  {
   "cell_type": "code",
   "execution_count": 21,
   "metadata": {},
   "outputs": [
    {
     "name": "stdout",
     "output_type": "stream",
     "text": [
      "[13, 28, 13, 99, 30, 45]\n"
     ]
    }
   ],
   "source": [
    "age = [13, 28, 13, 30, 45] #Список с заданными элементами\n",
    "age.insert(3, 99) #Вставка элемента 99 в позицию с индексом 3\n",
    "print(age) #Вывод [13, 28, 13, 99, 30, 45]"
   ]
  },
  {
   "cell_type": "code",
   "execution_count": 22,
   "metadata": {},
   "outputs": [
    {
     "name": "stdout",
     "output_type": "stream",
     "text": [
      "[13, 28, 13, 30, 45, 99]\n"
     ]
    }
   ],
   "source": [
    "age = [13, 28, 13, 30, 45] #Список с заданными элементами\n",
    "age.insert(10, 99) #Вставка элемента 99 в конец списка\n",
    "print(age) #Вывод [13, 28, 13, 30, 45, 99]"
   ]
  },
  {
   "cell_type": "markdown",
   "metadata": {},
   "source": [
    "### Функции len() и range()"
   ]
  },
  {
   "cell_type": "code",
   "execution_count": 24,
   "metadata": {},
   "outputs": [
    {
     "data": {
      "text/plain": [
       "5"
      ]
     },
     "execution_count": 24,
     "metadata": {},
     "output_type": "execute_result"
    }
   ],
   "source": [
    "age = [13, 28, 13, 30, 45]\n",
    "len(age) # Длина списка a"
   ]
  },
  {
   "cell_type": "code",
   "execution_count": 25,
   "metadata": {},
   "outputs": [
    {
     "name": "stdout",
     "output_type": "stream",
     "text": [
      "1\n",
      "5\n",
      "6\n",
      "9\n",
      "Конец цикла\n"
     ]
    }
   ],
   "source": [
    "numbers = [1, 5, 6, 9]\n",
    "for i in range(len(numbers)):  #Равносильно for i in [0, 1, 2, 3]\n",
    "    print(numbers[i])\n",
    "print('Конец цикла')"
   ]
  },
  {
   "cell_type": "code",
   "execution_count": 26,
   "metadata": {},
   "outputs": [
    {
     "name": "stdout",
     "output_type": "stream",
     "text": [
      "1\n",
      "25\n",
      "36\n",
      "81\n"
     ]
    }
   ],
   "source": [
    "numbers = [1, 5, 6, 9]\n",
    "for i in range(0, len(numbers)): #i изменяется от 0 до длины списка, т.е. до 4 не включительно\n",
    "    print(numbers[i] ** 2) #возведение в квадрат i-го элемента"
   ]
  },
  {
   "cell_type": "code",
   "execution_count": 27,
   "metadata": {},
   "outputs": [
    {
     "name": "stdout",
     "output_type": "stream",
     "text": [
      "Дима , приглашаю Вас на вечеринку!\n",
      "Антон , приглашаю Вас на вечеринку!\n",
      "Алексей , приглашаю Вас на вечеринку!\n",
      "Елена , приглашаю Вас на вечеринку!\n"
     ]
    }
   ],
   "source": [
    "names = ['Дима', 'Антон', 'Алексей', 'Елена']\n",
    "for i in range(0, len(names)):\n",
    "    print(names[i], ', приглашаю Вас на вечеринку!') "
   ]
  },
  {
   "cell_type": "code",
   "execution_count": 28,
   "metadata": {},
   "outputs": [
    {
     "name": "stdout",
     "output_type": "stream",
     "text": [
      "Дима , приглашаю Вас на вечеринку!\n",
      "Антон , приглашаю Вас на вечеринку!\n",
      "Алексей , приглашаю Вас на вечеринку!\n",
      "Елена , приглашаю Вас на вечеринку!\n"
     ]
    }
   ],
   "source": [
    "names = ['Дима', 'Антон', 'Алексей', 'Елена']\n",
    "for name in names:\n",
    "    print(name, ', приглашаю Вас на вечеринку!') "
   ]
  },
  {
   "cell_type": "code",
   "execution_count": 18,
   "metadata": {},
   "outputs": [
    {
     "name": "stdout",
     "output_type": "stream",
     "text": [
      "Сумма =  15\n"
     ]
    }
   ],
   "source": [
    "sum = 0\n",
    "for i in 1, 2, 3, 4, 5:\n",
    "    sum += i\n",
    "#Выполняется после завершения оператора цикла\n",
    "print('Сумма = ', sum)"
   ]
  },
  {
   "cell_type": "code",
   "execution_count": 29,
   "metadata": {},
   "outputs": [
    {
     "name": "stdout",
     "output_type": "stream",
     "text": [
      "0\n",
      "2\n",
      "4\n",
      "6\n",
      "8\n",
      "10\n",
      "12\n",
      "14\n",
      "16\n",
      "18\n",
      "20\n",
      "22\n",
      "24\n",
      "26\n",
      "28\n",
      "30\n",
      "32\n",
      "34\n",
      "36\n",
      "38\n",
      "40\n",
      "42\n",
      "44\n",
      "46\n",
      "48\n",
      "50\n"
     ]
    }
   ],
   "source": [
    "for i in range(0, 51, 2):\n",
    "    print(i)"
   ]
  },
  {
   "cell_type": "code",
   "execution_count": 30,
   "metadata": {},
   "outputs": [
    {
     "name": "stdout",
     "output_type": "stream",
     "text": [
      "3\n"
     ]
    }
   ],
   "source": [
    "numbers = [1, 5, 6, 9, 1, 5, 1, 13]\n",
    "print(numbers.count(1)) #Вывод 3"
   ]
  },
  {
   "cell_type": "raw",
   "metadata": {},
   "source": [
    "numbers = [1, 5, 6, '', 1, 5, '', 13]\n",
    "print(numbers.count('')) #Вывод 2"
   ]
  },
  {
   "cell_type": "markdown",
   "metadata": {},
   "source": [
    "### Функции sum(), min(), max()"
   ]
  },
  {
   "cell_type": "code",
   "execution_count": 31,
   "metadata": {},
   "outputs": [
    {
     "name": "stdout",
     "output_type": "stream",
     "text": [
      "41\n",
      "1\n",
      "13\n"
     ]
    }
   ],
   "source": [
    "numbers = [1, 5, 6, 9, 1, 5, 1, 13]\n",
    "print(sum(numbers)) #Вывод 41\n",
    "print(min(numbers)) #Вывод 1\n",
    "print(max(numbers)) #Вывод 13"
   ]
  },
  {
   "cell_type": "code",
   "execution_count": 37,
   "metadata": {},
   "outputs": [
    {
     "name": "stdout",
     "output_type": "stream",
     "text": [
      "1\n",
      "b\n"
     ]
    }
   ],
   "source": [
    "something = ['1', 'A', 'a', 'b', 'B', '13']\n",
    "print(min(something)) #Вывод 1\n",
    "print(max(something)) #Вывод b"
   ]
  },
  {
   "cell_type": "markdown",
   "metadata": {},
   "source": [
    "### Сортировка списков"
   ]
  },
  {
   "cell_type": "code",
   "execution_count": 34,
   "metadata": {},
   "outputs": [
    {
     "name": "stdout",
     "output_type": "stream",
     "text": [
      "[1, 1, 1, 5, 5, 6, 9, 13]\n"
     ]
    }
   ],
   "source": [
    "numbers = [1, 5, 6, 9, 1, 5, 1, 13]\n",
    "numbers.sort()\n",
    "print(numbers) #Вывод [1, 1, 1, 5, 5, 6, 9, 13]"
   ]
  },
  {
   "cell_type": "code",
   "execution_count": 35,
   "metadata": {},
   "outputs": [
    {
     "name": "stdout",
     "output_type": "stream",
     "text": [
      "[1, 1, 1, 5, 5, 6, 9, 13]\n",
      "[1, 5, 6, 9, 1, 5, 1, 13]\n"
     ]
    }
   ],
   "source": [
    "numbers = [1, 5, 6, 9, 1, 5, 1, 13]\n",
    "sorted_numbers = sorted(numbers) #Создание нового списка отсортированных элементов\n",
    "print(sorted_numbers) #Вывод [1, 1, 1, 5, 5, 6, 9, 13]\n",
    "print(numbers) #Вывод [1, 5, 6, 9, 1, 5, 1, 13]"
   ]
  },
  {
   "cell_type": "code",
   "execution_count": 36,
   "metadata": {},
   "outputs": [
    {
     "name": "stdout",
     "output_type": "stream",
     "text": [
      "[13, 9, 6, 5, 5, 1, 1, 1]\n",
      "[13, 9, 6, 5, 5, 1, 1, 1]\n"
     ]
    }
   ],
   "source": [
    "numbers = [1, 5, 6, 9, 1, 5, 1, 13]\n",
    "print(sorted(numbers, reverse=True)) #Вывод [13, 9, 6, 5, 5, 1, 1, 1]\n",
    "numbers.sort(reverse=True)\n",
    "print(numbers) #Вывод [13, 9, 6, 5, 5, 1, 1, 1]"
   ]
  },
  {
   "cell_type": "markdown",
   "metadata": {},
   "source": [
    "##  Структуры данных в Python. Кортежи"
   ]
  },
  {
   "cell_type": "code",
   "execution_count": 38,
   "metadata": {},
   "outputs": [
    {
     "name": "stdout",
     "output_type": "stream",
     "text": [
      "(1, 2, 3)\n"
     ]
    },
    {
     "ename": "TypeError",
     "evalue": "'tuple' object does not support item assignment",
     "output_type": "error",
     "traceback": [
      "\u001b[0;31m---------------------------------------------------------------------------\u001b[0m",
      "\u001b[0;31mTypeError\u001b[0m                                 Traceback (most recent call last)",
      "\u001b[0;32m<ipython-input-38-a502e164598d>\u001b[0m in \u001b[0;36m<module>\u001b[0;34m\u001b[0m\n\u001b[1;32m      1\u001b[0m \u001b[0ma\u001b[0m \u001b[0;34m=\u001b[0m \u001b[0;34m(\u001b[0m\u001b[0;36m1\u001b[0m\u001b[0;34m,\u001b[0m \u001b[0;36m2\u001b[0m\u001b[0;34m,\u001b[0m \u001b[0;36m3\u001b[0m\u001b[0;34m,\u001b[0m \u001b[0;36m4\u001b[0m\u001b[0;34m,\u001b[0m \u001b[0;36m5\u001b[0m\u001b[0;34m,\u001b[0m \u001b[0;36m6\u001b[0m\u001b[0;34m)\u001b[0m \u001b[0;31m#Создание кортежа\u001b[0m\u001b[0;34m\u001b[0m\u001b[0m\n\u001b[1;32m      2\u001b[0m \u001b[0mprint\u001b[0m\u001b[0;34m(\u001b[0m\u001b[0ma\u001b[0m\u001b[0;34m[\u001b[0m\u001b[0;36m0\u001b[0m\u001b[0;34m:\u001b[0m\u001b[0;36m3\u001b[0m\u001b[0;34m]\u001b[0m\u001b[0;34m)\u001b[0m \u001b[0;31m#Вывод первых трех элементов\u001b[0m\u001b[0;34m\u001b[0m\u001b[0m\n\u001b[0;32m----> 3\u001b[0;31m \u001b[0ma\u001b[0m\u001b[0;34m[\u001b[0m\u001b[0;36m2\u001b[0m\u001b[0;34m]\u001b[0m \u001b[0;34m=\u001b[0m \u001b[0;36m4\u001b[0m \u001b[0;31m#Попытка изменить элемент кортежа\u001b[0m\u001b[0;34m\u001b[0m\u001b[0m\n\u001b[0m",
      "\u001b[0;31mTypeError\u001b[0m: 'tuple' object does not support item assignment"
     ]
    }
   ],
   "source": [
    "a = (1, 2, 3, 4, 5, 6) #Создание кортежа\n",
    "print(a[0:3]) #Вывод первых трех элементов\n",
    "a[2] = 4 #Попытка изменить элемент кортежа"
   ]
  },
  {
   "cell_type": "code",
   "execution_count": 39,
   "metadata": {},
   "outputs": [
    {
     "name": "stdout",
     "output_type": "stream",
     "text": [
      "s\n",
      "('s',)\n",
      "('s',)\n",
      "('s', 1)\n"
     ]
    }
   ],
   "source": [
    "a = ('s') # Не использована запятая\n",
    "print(a) # В переменной содержится текст\n",
    "a = ('s',) # Запятая использована\n",
    "print(a) # Кортеж из одного элемента\n",
    "a = 's', # Запятая есть, скобок нет\n",
    "print(a) # Кортеж из одного элемента\n",
    "a = 's',1 # Запятая есть, скобок нет\n",
    "print(a) #Кортеж из двух элементов"
   ]
  }
 ],
 "metadata": {
  "kernelspec": {
   "display_name": "Python 3.6",
   "language": "python",
   "name": "python36"
  },
  "language_info": {
   "codemirror_mode": {
    "name": "ipython",
    "version": 3
   },
   "file_extension": ".py",
   "mimetype": "text/x-python",
   "name": "python",
   "nbconvert_exporter": "python",
   "pygments_lexer": "ipython3",
   "version": "3.6.6"
  }
 },
 "nbformat": 4,
 "nbformat_minor": 2
}
