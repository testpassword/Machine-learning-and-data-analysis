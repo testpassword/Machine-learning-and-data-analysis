{
 "cells": [
  {
   "cell_type": "markdown",
   "metadata": {
    "collapsed": true
   },
   "source": [
    "# Машинное обучение и анализ данных\n",
    "\n",
    "## Высшая Школа Цифровой Культуры"
   ]
  },
  {
   "cell_type": "markdown",
   "metadata": {},
   "source": [
    "## Объектно-ориентированный подход"
   ]
  },
  {
   "cell_type": "code",
   "execution_count": 6,
   "metadata": {},
   "outputs": [],
   "source": [
    "class Dog(): # Объявление класса\n",
    "    def __init__(self, name, age, status='Радость'): #Метод инициализации класса\n",
    "        self.name = name #Атрибут имя\n",
    "        self.age = age #Атрибут возраст\n",
    "        self.status = status #Атрибут статус\n",
    "    def pet(self): #Метод похвалить\n",
    "        self.status = 'Радость'\n",
    "    def punish (self): #Метод наказать\n",
    "        self.status = 'Грусть'"
   ]
  },
  {
   "cell_type": "code",
   "execution_count": 7,
   "metadata": {},
   "outputs": [],
   "source": [
    "my_dog = Dog('Ксюша', 10) #Создание экземпляра класса"
   ]
  },
  {
   "cell_type": "code",
   "execution_count": 8,
   "metadata": {},
   "outputs": [
    {
     "name": "stdout",
     "output_type": "stream",
     "text": [
      "Ксюша 10 Радость\n"
     ]
    }
   ],
   "source": [
    "print(my_dog.name, my_dog.age, my_dog.status) #Вывод значений полей класса"
   ]
  },
  {
   "cell_type": "code",
   "execution_count": 9,
   "metadata": {},
   "outputs": [
    {
     "name": "stdout",
     "output_type": "stream",
     "text": [
      "Ксюша 10 Грусть\n"
     ]
    }
   ],
   "source": [
    "my_dog.punish() #Метод punish()\n",
    "print(my_dog.name, my_dog.age, my_dog.status) #Вывод значений полей класса"
   ]
  },
  {
   "cell_type": "code",
   "execution_count": 10,
   "metadata": {},
   "outputs": [
    {
     "name": "stdout",
     "output_type": "stream",
     "text": [
      "Ксюша 10 Радость\n"
     ]
    }
   ],
   "source": [
    "my_dog.pet() #Метод pet()\n",
    "print(my_dog.name, my_dog.age, my_dog.status) #Вывод значений полей класса"
   ]
  },
  {
   "cell_type": "code",
   "execution_count": 13,
   "metadata": {},
   "outputs": [
    {
     "name": "stdout",
     "output_type": "stream",
     "text": [
      "11\n"
     ]
    }
   ],
   "source": [
    "my_dog.age = 11\n",
    "print(my_dog.age)"
   ]
  },
  {
   "cell_type": "code",
   "execution_count": 16,
   "metadata": {},
   "outputs": [],
   "source": [
    "class Dog(): # Объявление класса\n",
    "    def __init__(self, name, age, status='Радость'): #Метод инициализации класса\n",
    "        self.name = name #Атрибут имя\n",
    "        self.age = age #Атрибут возраст\n",
    "        self.status = status #Атрибут\n",
    "    def pet(self): #Метод похвалить\n",
    "        self.status = 'Радость'\n",
    "    def punish (self): #Метод наказать\n",
    "        self.status = 'Грусть'\n",
    "    def happy_birthday(self): #Метод поздравления и изменения возраста\n",
    "        self.age = self.age + 1 #Увеличить значение возраста на 1\n",
    "        print('С Днем Рождения,', self.name, '. Тебе', self.age, 'лет!' )"
   ]
  },
  {
   "cell_type": "code",
   "execution_count": 17,
   "metadata": {},
   "outputs": [
    {
     "name": "stdout",
     "output_type": "stream",
     "text": [
      "С Днем Рождения, Ксюша . Тебе 11 лет!\n"
     ]
    }
   ],
   "source": [
    "my_dog = Dog('Ксюша', 10) #Создание экземпляра класса. Возраст равен 10\n",
    "my_dog.happy_birthday() #Вызов метода"
   ]
  }
 ],
 "metadata": {
  "kernelspec": {
   "display_name": "Python 3.6",
   "language": "python",
   "name": "python36"
  },
  "language_info": {
   "codemirror_mode": {
    "name": "ipython",
    "version": 3
   },
   "file_extension": ".py",
   "mimetype": "text/x-python",
   "name": "python",
   "nbconvert_exporter": "python",
   "pygments_lexer": "ipython3",
   "version": "3.6.6"
  }
 },
 "nbformat": 4,
 "nbformat_minor": 2
}
