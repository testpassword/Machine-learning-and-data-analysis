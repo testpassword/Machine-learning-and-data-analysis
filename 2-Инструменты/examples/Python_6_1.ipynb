{
 "cells": [
  {
   "cell_type": "markdown",
   "metadata": {
    "collapsed": true
   },
   "source": [
    "# Машинное обучение и анализ данных\n",
    "\n",
    "## Высшая Школа Цифровой Культуры"
   ]
  },
  {
   "cell_type": "markdown",
   "metadata": {},
   "source": [
    "## Библиотека $\\mathsf{NumPy}$"
   ]
  },
  {
   "cell_type": "markdown",
   "metadata": {},
   "source": [
    "Подключение основных возможностей библиотеки $\\mathsf{NumPy}$ осуществляется следующей строкой: "
   ]
  },
  {
   "cell_type": "code",
   "execution_count": 1,
   "metadata": {},
   "outputs": [],
   "source": [
    "import numpy as np"
   ]
  },
  {
   "cell_type": "code",
   "execution_count": 2,
   "metadata": {},
   "outputs": [
    {
     "name": "stdout",
     "output_type": "stream",
     "text": [
      "[ 1 -3  2  7]\n",
      "<class 'numpy.ndarray'>\n"
     ]
    }
   ],
   "source": [
    "list1 = [1, -3, 2, 7] #Cписок\n",
    "arr1 = np.array(list1) #Преобразование списка в ndarray\n",
    "print(arr1) #Вывод массива\n",
    "print(type(arr1)) #Вывод типа объекта"
   ]
  },
  {
   "cell_type": "code",
   "execution_count": 3,
   "metadata": {},
   "outputs": [
    {
     "name": "stdout",
     "output_type": "stream",
     "text": [
      "[[1 2 3 4]\n",
      " [5 6 7 8]]\n",
      "(2, 4)\n"
     ]
    }
   ],
   "source": [
    "list2 = [[1, 2, 3, 4], [5, 6, 7, 8]] #Список из списков одинаковой длины\n",
    "arr2 = np.array(list2) #Создание двумерного ndarray на основе list2\n",
    "print(arr2) #Вывод массива\n",
    "print(arr2.shape) #Вывод размерности массива"
   ]
  },
  {
   "cell_type": "code",
   "execution_count": 4,
   "metadata": {},
   "outputs": [
    {
     "name": "stdout",
     "output_type": "stream",
     "text": [
      "[0. 0. 0. 0. 0.]\n",
      "[30 39 48 57 66 75 84 93]\n"
     ]
    }
   ],
   "source": [
    "print(np.zeros(5)) #Массив размера (5, ) из пяти нулей\n",
    "print(np.arange(30, 100, 9)) #Массив размера (9, ) из чисел от 30 до 100 с шагом в 9"
   ]
  },
  {
   "cell_type": "code",
   "execution_count": 5,
   "metadata": {},
   "outputs": [
    {
     "name": "stdout",
     "output_type": "stream",
     "text": [
      "[[ 5 10 15 20]\n",
      " [25 30 35 40]]\n"
     ]
    }
   ],
   "source": [
    "arr2 = np.array([[1, 2, 3, 4], [5, 6, 7, 8]])\n",
    "print(arr2 * 5)"
   ]
  },
  {
   "cell_type": "code",
   "execution_count": 6,
   "metadata": {},
   "outputs": [
    {
     "name": "stdout",
     "output_type": "stream",
     "text": [
      "[[1.         0.5        0.33333333 0.25      ]\n",
      " [0.2        0.16666667 0.14285714 0.125     ]]\n"
     ]
    }
   ],
   "source": [
    "arr2 = np.array([[1, 2, 3, 4], [5, 6, 7, 8]])\n",
    "print(1 / arr2)"
   ]
  },
  {
   "cell_type": "code",
   "execution_count": 7,
   "metadata": {},
   "outputs": [
    {
     "name": "stdout",
     "output_type": "stream",
     "text": [
      "5\n",
      "[0 1 2]\n",
      "[5 6 7]\n",
      "[2 3]\n"
     ]
    }
   ],
   "source": [
    "arr = np.array([0, 1, 2, 3, 4, 5, 6, 7]) #Одномерный массив\n",
    "print(arr[5]) #Вывод элемента с индексом 5\n",
    "print(arr[:3]) #Вывод элементов с индексами 0,1, и 2\n",
    "print(arr[5:]) #Вывод всех элементов, индекс которых больше либо равен пяти\n",
    "print(arr[2:4]) #Вывод элементов с индексам 2 и 3 "
   ]
  },
  {
   "cell_type": "code",
   "execution_count": 8,
   "metadata": {},
   "outputs": [
    {
     "name": "stdout",
     "output_type": "stream",
     "text": [
      "[13 13 13]\n",
      "[ 0  1  2 13 13 13  6  7]\n"
     ]
    }
   ],
   "source": [
    "arr = np.array([0, 1, 2, 3, 4, 5, 6, 7])\n",
    "arr_slice = arr[3:6] #Выделение подмножества\n",
    "arr_slice[:] = 13 #Присвоение всем элементам arr_slice значения 13\n",
    "print(arr_slice)\n",
    "print(arr)"
   ]
  },
  {
   "cell_type": "code",
   "execution_count": 9,
   "metadata": {},
   "outputs": [
    {
     "name": "stdout",
     "output_type": "stream",
     "text": [
      "[13 13 13]\n",
      "[0 1 2 3 4 5 6 7]\n"
     ]
    }
   ],
   "source": [
    "arr = np.array([0, 1, 2, 3, 4, 5, 6, 7])\n",
    "arr_slice = arr[3:6].copy()\n",
    "arr_slice[:] = 13 #Присвоение всем элементам arr_slice значения 13\n",
    "print(arr_slice)\n",
    "print(arr)"
   ]
  },
  {
   "cell_type": "code",
   "execution_count": 10,
   "metadata": {},
   "outputs": [
    {
     "name": "stdout",
     "output_type": "stream",
     "text": [
      "[1 2 3]\n",
      "6\n"
     ]
    }
   ],
   "source": [
    "arr2d = np.array([[1, 2, 3], [4, 5, 6], [7, 8, 9]])\n",
    "print(arr2d[0]) # Вывод нулевого элемента (вывод массива)\n",
    "print(arr2d[1][2]) # Вывод отдельного элемента"
   ]
  },
  {
   "cell_type": "code",
   "execution_count": 11,
   "metadata": {},
   "outputs": [
    {
     "name": "stdout",
     "output_type": "stream",
     "text": [
      "[[1 2 3]\n",
      " [4 5 6]\n",
      " [7 8 9]]\n",
      "Выделение подмножества\n",
      "[[2 3]\n",
      " [5 6]]\n"
     ]
    }
   ],
   "source": [
    "arr2d = np.array([[1, 2, 3], [4, 5, 6], [7, 8, 9]])\n",
    "print(arr2d) #Выведем для удобства весь массив\n",
    "print('Выделение подмножества')\n",
    "print(arr2d[:2, 1:])  #Сначала выбираются строки с индексам меньше двух (нулевая и первая), затем столбцы с индексами больше, либо равными единице"
   ]
  },
  {
   "cell_type": "code",
   "execution_count": 12,
   "metadata": {},
   "outputs": [
    {
     "name": "stdout",
     "output_type": "stream",
     "text": [
      "Двумерный массив\n",
      "[[3]\n",
      " [6]\n",
      " [9]]\n",
      "Одномерный массив\n",
      "[3 6 9]\n"
     ]
    }
   ],
   "source": [
    "arr2d = np.array([[1, 2, 3], [4, 5, 6], [7, 8, 9]])\n",
    "print('Двумерный массив')\n",
    "print(arr2d[:,2:])\n",
    "print('Одномерный массив')\n",
    "print(arr2d[:,2])"
   ]
  },
  {
   "cell_type": "code",
   "execution_count": 13,
   "metadata": {},
   "outputs": [
    {
     "name": "stdout",
     "output_type": "stream",
     "text": [
      "Исходный массив\n",
      "[[1 2 3]\n",
      " [4 5 6]\n",
      " [7 8 9]]\n",
      "Выбор элементов\n",
      "[2 6 7]\n"
     ]
    }
   ],
   "source": [
    "arr2d = np.array([[1, 2, 3], [4, 5, 6], [7, 8, 9]])\n",
    "print('Исходный массив')\n",
    "print(arr2d)\n",
    "print('Выбор элементов')\n",
    "print(arr2d[[0, 1, 2], [1, 2, 0]])"
   ]
  },
  {
   "cell_type": "code",
   "execution_count": 14,
   "metadata": {},
   "outputs": [
    {
     "name": "stdout",
     "output_type": "stream",
     "text": [
      "Исходный массив\n",
      "[ 0  1  2  3  4  5  6  7  8  9 10 11 12 13 14]\n",
      "Преобразование одномерного массива в двумерный размера (3, 5)\n",
      "[[ 0  1  2  3  4]\n",
      " [ 5  6  7  8  9]\n",
      " [10 11 12 13 14]]\n",
      "Транспонирование\n",
      "[[ 0  5 10]\n",
      " [ 1  6 11]\n",
      " [ 2  7 12]\n",
      " [ 3  8 13]\n",
      " [ 4  9 14]]\n",
      "Обратно в одномерный массив\n",
      "[ 0  1  2  3  4  5  6  7  8  9 10 11 12 13 14]\n"
     ]
    }
   ],
   "source": [
    "arr = np.arange(15) #Создание одномерного массива из 15 элементов\n",
    "print('Исходный массив')\n",
    "print(arr)\n",
    "print('Преобразование одномерного массива в двумерный размера (3, 5)')\n",
    "arr = arr.reshape(3, 5)\n",
    "print(arr) \n",
    "print('Транспонирование')\n",
    "print(np.transpose(arr))\n",
    "print('Обратно в одномерный массив')\n",
    "print(arr.reshape(15,))"
   ]
  },
  {
   "cell_type": "code",
   "execution_count": 15,
   "metadata": {},
   "outputs": [
    {
     "name": "stdout",
     "output_type": "stream",
     "text": [
      "[[ 5 14]\n",
      " [14 50]]\n"
     ]
    }
   ],
   "source": [
    "X = np.arange(6).reshape(2, 3) #X — матрица размерности [2 x 3]\n",
    "print(np.dot(X, X.T)) #Матричное умножение"
   ]
  },
  {
   "cell_type": "code",
   "execution_count": 17,
   "metadata": {},
   "outputs": [
    {
     "name": "stdout",
     "output_type": "stream",
     "text": [
      "Исходный массив\n",
      "[[0 1 2 3]\n",
      " [4 5 6 7]]\n",
      "Извлечение корня\n",
      "[[0.         1.         1.41421356 1.73205081]\n",
      " [2.         2.23606798 2.44948974 2.64575131]]\n",
      "Нахождение синуса\n",
      "[[ 0.          0.84147098  0.90929743  0.14112001]\n",
      " [-0.7568025  -0.95892427 -0.2794155   0.6569866 ]]\n"
     ]
    }
   ],
   "source": [
    "arr = np.arange(8).reshape(2, 4) #Создание массива размера (2, 4)\n",
    "print('Исходный массив')\n",
    "print(arr)\n",
    "print('Извлечение корня')\n",
    "print(np.sqrt(arr))\n",
    "print('Нахождение синуса')\n",
    "print(np.sin(arr))"
   ]
  },
  {
   "cell_type": "markdown",
   "metadata": {},
   "source": [
    "С полным перечнем универсальных функций можно ознакомиться в документации https://numpy.org/doc/"
   ]
  },
  {
   "cell_type": "markdown",
   "metadata": {},
   "source": [
    "### Выборочные характеристики"
   ]
  },
  {
   "cell_type": "code",
   "execution_count": 18,
   "metadata": {},
   "outputs": [
    {
     "name": "stdout",
     "output_type": "stream",
     "text": [
      "Исходный массив\n",
      "[0 1 2 3 4 5 6 7]\n",
      "Среднее: 3.5\n",
      "Сумма: 28\n"
     ]
    }
   ],
   "source": [
    "arr = np.arange(8) #Создание массива из 8 элементов\n",
    "print('Исходный массив')\n",
    "print(arr)\n",
    "print('Среднее:', np.mean(arr))\n",
    "print('Сумма:', np.sum(arr))"
   ]
  },
  {
   "cell_type": "code",
   "execution_count": 19,
   "metadata": {},
   "outputs": [
    {
     "name": "stdout",
     "output_type": "stream",
     "text": [
      "[[0 1 2 3]\n",
      " [4 5 6 7]]\n",
      "[2. 3. 4. 5.]\n",
      "[1.5 5.5]\n"
     ]
    }
   ],
   "source": [
    "arr = np.arange(8).reshape(2,4) #Создание массива \n",
    "print(arr) \n",
    "print(arr.mean(axis = 0)) #Средние значения по столбцами\n",
    "print(arr.mean(axis = 1)) #Средние значения по строкам"
   ]
  },
  {
   "cell_type": "code",
   "execution_count": 20,
   "metadata": {},
   "outputs": [
    {
     "name": "stdout",
     "output_type": "stream",
     "text": [
      "Отсортированный двумерный массив\n",
      "[[0 2 3]\n",
      " [1 4 7]\n",
      " [5 6 8]]\n",
      "Отсортированный одномерный массив\n",
      "[0 1 2 3 4 5 6 7 8]\n"
     ]
    }
   ],
   "source": [
    "arr = np.array([[2, 0, 3], [4, 1, 7], [6, 8, 5]]) #Создание массива \n",
    "arr2 = arr.reshape(9,) #Одномерный массив на основее arr\n",
    "print('Отсортированный двумерный массив')\n",
    "print(np.sort(arr))\n",
    "print('Отсортированный одномерный массив')\n",
    "print(np.sort(arr2))"
   ]
  }
 ],
 "metadata": {
  "kernelspec": {
   "display_name": "Python 3.6",
   "language": "python",
   "name": "python36"
  },
  "language_info": {
   "codemirror_mode": {
    "name": "ipython",
    "version": 3
   },
   "file_extension": ".py",
   "mimetype": "text/x-python",
   "name": "python",
   "nbconvert_exporter": "python",
   "pygments_lexer": "ipython3",
   "version": "3.6.6"
  }
 },
 "nbformat": 4,
 "nbformat_minor": 2
}
