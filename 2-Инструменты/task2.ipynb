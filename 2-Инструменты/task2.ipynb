{
 "nbformat": 4,
 "nbformat_minor": 2,
 "metadata": {
  "language_info": {
   "name": "python",
   "codemirror_mode": {
    "name": "ipython",
    "version": 3
   },
   "version": "3.8.1-final"
  },
  "orig_nbformat": 2,
  "file_extension": ".py",
  "mimetype": "text/x-python",
  "name": "python",
  "npconvert_exporter": "python",
  "pygments_lexer": "ipython3",
  "version": 3,
  "kernelspec": {
   "name": "python38164bitfdd17f32668546a5ae7574a2749c4b27",
   "display_name": "Python 3.8.1 64-bit"
  }
 },
 "cells": [
  {
   "cell_type": "markdown",
   "metadata": {},
   "source": [
    "### 0. Получение данных ###\n",
    "\n",
    "Получим из бд необходимые выборки командой:\n",
    "```\n",
    "SELECT * FROM pulsar_stars WHERE (target = 0 AND mip BETWEEN 87.5859375 AND 88.484375) OR (target = 1 AND mip BETWEEN 52.9296875 AND 58.7890625)\n",
    "```\n",
    "и скачаем в формате csv. Импортируем нужные пакеты и файл."
   ]
  },
  {
   "cell_type": "code",
   "execution_count": 1,
   "metadata": {},
   "outputs": [],
   "source": [
    "import pandas\n",
    "import numpy\n",
    "from sklearn.preprocessing import MinMaxScaler\n",
    "from sklearn.metrics.pairwise import euclidean_distances\n",
    "data = pandas.read_csv(\"report.csv\")"
   ]
  },
  {
   "cell_type": "markdown",
   "metadata": {},
   "source": [
    "### 1. Количество строк в полученной выборке ###"
   ]
  },
  {
   "cell_type": "code",
   "execution_count": 2,
   "metadata": {},
   "outputs": [
    {
     "name": "stdout",
     "output_type": "stream",
     "text": "202\n"
    }
   ],
   "source": [
    "count = len(data)\n",
    "print(count)"
   ]
  },
  {
   "cell_type": "markdown",
   "metadata": {},
   "source": [
    "### 2. Выборочное среднее ###\n",
    "Найдём по формуле: $$\\bar X ={\\frac  {1}{n}}\\sum \\limits _{{i=1}}^{n}X_{i} $$"
   ]
  },
  {
   "cell_type": "code",
   "execution_count": 3,
   "metadata": {},
   "outputs": [
    {
     "name": "stdout",
     "output_type": "stream",
     "text": "72.01322710396039\n"
    }
   ],
   "source": [
    "print(numpy.mean(data)[0])"
   ]
  },
  {
   "cell_type": "markdown",
   "metadata": {},
   "source": [
    "### 3. Линейная нормировка ###\n",
    "Вычисляется по формуле: $$ \\tilde{x_i}=\\frac{x_i - x_{i, min}}{x_{i, max}-x_{i, min}} $$"
   ]
  },
  {
   "cell_type": "code",
   "execution_count": 2,
   "metadata": {},
   "outputs": [
    {
     "name": "stdout",
     "output_type": "stream",
     "text": "0.536737655308049\n"
    }
   ],
   "source": [
    "data = data.drop(columns = 'TARGET')\n",
    "normalized = pandas.DataFrame(MinMaxScaler().fit_transform(data))\n",
    "print(numpy.mean(normalized)[0])"
   ]
  },
  {
   "cell_type": "markdown",
   "metadata": {},
   "source": [
    "### 4. Евклидова метрика ###\n",
    "Евклидова метрика (метрика в евклидовом пространстве) — расстояние между двумя точками евклидова пространства, вычисляемое по теореме Пифагора: $$ d_{pq}= \\sqrt{\\sum \\limits_{i=1}^{n} (p_{i} - q_{i})^2} $$"
   ]
  },
  {
   "cell_type": "code",
   "execution_count": 8,
   "metadata": {},
   "outputs": [
    {
     "data": {
      "text/plain": "0.9033027003473696"
     },
     "execution_count": 8,
     "metadata": {},
     "output_type": "execute_result"
    }
   ],
   "source": [
    "star = pandas.DataFrame([[0.833, 0.092, 0.443, 0.092, 0.112, 0.86, 0.742, 0.299]])\n",
    "numpy.min(euclidean_distances(star, normalized))"
   ]
  }
 ]
}