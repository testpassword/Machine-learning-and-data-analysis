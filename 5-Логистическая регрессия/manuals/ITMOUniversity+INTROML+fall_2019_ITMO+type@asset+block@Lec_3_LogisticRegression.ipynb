{
 "cells": [
  {
   "cell_type": "markdown",
   "metadata": {
    "collapsed": true
   },
   "source": [
    "# Введение в Машинное обучение\n",
    "\n",
    "## Высшая Школа Цифровой Культуры\n",
    "\n",
    "## Материалы к лекции 3. Логистическая регрессия"
   ]
  },
  {
   "cell_type": "markdown",
   "metadata": {},
   "source": [
    "Обработка данных"
   ]
  },
  {
   "cell_type": "code",
   "execution_count": 1,
   "metadata": {},
   "outputs": [],
   "source": [
    "#чтение данных, так как названия конфет уникальны, используем их в качестве индекса\n",
    "import pandas as pd\n",
    "DATA = pd.read_csv(\"candy-data.csv\", delimiter=',', index_col='competitorname')"
   ]
  },
  {
   "cell_type": "code",
   "execution_count": 2,
   "metadata": {},
   "outputs": [],
   "source": [
    "#обучение модели будем проводить на данных, за исключением некоторых конфет\n",
    "train_data = DATA.drop(['100 Grand','3 Musketeers','One dime','One quarter','Air Heads'])"
   ]
  },
  {
   "cell_type": "code",
   "execution_count": 3,
   "metadata": {},
   "outputs": [],
   "source": [
    "#отбор данных для предикторов, удаление дввух последних столбцов, индекс не включается в данные автоматически.\n",
    "X = pd.DataFrame(train_data.drop(['winpercent', 'Y'], axis=1))"
   ]
  },
  {
   "cell_type": "code",
   "execution_count": 4,
   "metadata": {},
   "outputs": [],
   "source": [
    "#отбор столбца для отклика\n",
    "y = pd.DataFrame(train_data['Y'])"
   ]
  },
  {
   "cell_type": "markdown",
   "metadata": {},
   "source": [
    "Обучение модели логистической регрессии"
   ]
  },
  {
   "cell_type": "code",
   "execution_count": 5,
   "metadata": {},
   "outputs": [],
   "source": [
    "#подключение модели логистической регрессии из библиотеки sklearn\n",
    "from sklearn.linear_model import LogisticRegression"
   ]
  },
  {
   "cell_type": "code",
   "execution_count": 6,
   "metadata": {},
   "outputs": [],
   "source": [
    "#обучение модели\n",
    "reg = LogisticRegression(random_state=2019, solver='lbfgs').fit(X, y.values.ravel())"
   ]
  },
  {
   "cell_type": "markdown",
   "metadata": {},
   "source": [
    "Предсказание результатов с помощью обученной модели"
   ]
  },
  {
   "cell_type": "code",
   "execution_count": 7,
   "metadata": {},
   "outputs": [
    {
     "data": {
      "text/plain": [
       "array([[0.16929823, 0.83070177]])"
      ]
     },
     "execution_count": 7,
     "metadata": {},
     "output_type": "execute_result"
    }
   ],
   "source": [
    "#предсказание для сладости, введенной вручную, вероятности указаны для классов 0 и 1 соответственно \n",
    "reg.predict_proba([[1, 1, 1, 0, 0, 1, 1, 1, 0, 0.64, 0.76]])"
   ]
  },
  {
   "cell_type": "code",
   "execution_count": 8,
   "metadata": {},
   "outputs": [
    {
     "data": {
      "text/plain": [
       "array([0])"
      ]
     },
     "execution_count": 8,
     "metadata": {},
     "output_type": "execute_result"
    }
   ],
   "source": [
    "#предсказание для сладости из таблицы\n",
    "#выбор строки из таблицы\n",
    "AirHeads = DATA.loc['Air Heads',:].to_frame().T\n",
    "#отбор данных для предикторов и предсказание\n",
    "reg.predict(AirHeads.drop(['winpercent', 'Y'], axis=1))"
   ]
  },
  {
   "cell_type": "markdown",
   "metadata": {},
   "source": [
    "Оценка модели с помощью тестовых данных"
   ]
  },
  {
   "cell_type": "code",
   "execution_count": 9,
   "metadata": {},
   "outputs": [],
   "source": [
    "#чтение тестовых данных и отбор предикторов\n",
    "test_data = pd.read_csv(\"candy-test.csv\", delimiter=',', index_col='competitorname')\n",
    "X_test = pd.DataFrame(test_data.drop(['Y'], axis=1))"
   ]
  },
  {
   "cell_type": "code",
   "execution_count": 10,
   "metadata": {},
   "outputs": [],
   "source": [
    "#предсказание с помощью обученной модели, порог отсечения по умолчанию составляет 0.5\n",
    "Y_pred = reg.predict(X_test)"
   ]
  },
  {
   "cell_type": "code",
   "execution_count": 11,
   "metadata": {},
   "outputs": [],
   "source": [
    "#отбор отклика Y из тестовых данных и преобразование в массив\n",
    "Y_true = (test_data['Y'].to_frame().T).values.ravel()"
   ]
  },
  {
   "cell_type": "code",
   "execution_count": 12,
   "metadata": {},
   "outputs": [],
   "source": [
    "#подключение библиотеки для вычисления метрик\n",
    "from sklearn import metrics"
   ]
  },
  {
   "cell_type": "code",
   "execution_count": 13,
   "metadata": {},
   "outputs": [
    {
     "data": {
      "text/plain": [
       "0.6499999999999999"
      ]
     },
     "execution_count": 13,
     "metadata": {},
     "output_type": "execute_result"
    }
   ],
   "source": [
    "#вычисление FPR и TPR, с последующим нахождением AUC\n",
    "fpr, tpr, thresholds = metrics.roc_curve(Y_true, Y_pred)\n",
    "metrics.auc(fpr, tpr)"
   ]
  },
  {
   "cell_type": "code",
   "execution_count": 14,
   "metadata": {},
   "outputs": [
    {
     "data": {
      "text/plain": [
       "0.6"
      ]
     },
     "execution_count": 14,
     "metadata": {},
     "output_type": "execute_result"
    }
   ],
   "source": [
    "#вычисление Recall\n",
    "metrics.recall_score(Y_true, Y_pred)"
   ]
  },
  {
   "cell_type": "code",
   "execution_count": 15,
   "metadata": {},
   "outputs": [
    {
     "data": {
      "text/plain": [
       "0.5"
      ]
     },
     "execution_count": 15,
     "metadata": {},
     "output_type": "execute_result"
    }
   ],
   "source": [
    "#вычисление Precision\n",
    "metrics.precision_score(Y_true, Y_pred)"
   ]
  }
 ],
 "metadata": {
  "kernelspec": {
   "display_name": "Python 3.6",
   "language": "python",
   "name": "python36"
  },
  "language_info": {
   "codemirror_mode": {
    "name": "ipython",
    "version": 3
   },
   "file_extension": ".py",
   "mimetype": "text/x-python",
   "name": "python",
   "nbconvert_exporter": "python",
   "pygments_lexer": "ipython3",
   "version": "3.6.6"
  }
 },
 "nbformat": 4,
 "nbformat_minor": 2
}
