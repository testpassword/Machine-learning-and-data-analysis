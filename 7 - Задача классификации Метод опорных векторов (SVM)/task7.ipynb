{
 "cells": [
  {
   "cell_type": "code",
   "execution_count": 6,
   "metadata": {},
   "outputs": [],
   "source": [
    "from sklearn.preprocessing import LabelEncoder\n",
    "from sklearn.svm import LinearSVC\n",
    "from sklearn.metrics import classification_report\n",
    "from sklearn.model_selection import train_test_split\n",
    "from IPython.display import Image\n",
    "from imutils import paths\n",
    "import numpy as np\n",
    "import cv2\n",
    "import os\n",
    "from sklearn.metrics import f1_score"
   ]
  },
  {
   "cell_type": "code",
   "execution_count": 9,
   "metadata": {},
   "outputs": [],
   "source": [
    "def extract_histogram(image, bins = (8, 8, 8)):\n",
    "    hist = cv2.calcHist([image], [0, 1, 2], None, bins, [0, 256, 0, 256, 0, 256])\n",
    "    cv2.normalize(hist, hist)\n",
    "    return hist.flatten()\n",
    "imagePaths = sorted(list(paths.list_images(\"train\")))\n",
    "data = []\n",
    "labels = []\n",
    "for (i, imagePath) in enumerate(imagePaths):\n",
    "    image = cv2.imread(imagePath, 1)\n",
    "    label = imagePath.split(os.path.sep)[-1].split(\".\")[0]\n",
    "    hist = extract_histogram(image)\n",
    "    data.append(hist)\n",
    "    labels.append(label)\n",
    "le = LabelEncoder()\n",
    "labels = le.fit_transform(labels)\n",
    "(trainData, testData, trainLabels, testLabels) = train_test_split(np.array(data), labels, test_size = 0.25, random_state = 5) #random_state поменять на свой\n",
    "model = LinearSVC(random_state = 5, C = 0.72) #random_state и C поменять на свои\n",
    "model.fit(trainData, trainLabels)\n",
    "predictions = model.predict(testData)"
   ]
  },
  {
   "cell_type": "code",
   "execution_count": 32,
   "metadata": {},
   "outputs": [
    {
     "output_type": "stream",
     "name": "stdout",
     "text": "precision    recall  f1-score   support\n\n         cat       0.51      0.70      0.59       115\n         dog       0.63      0.44      0.52       135\n\n    accuracy                           0.56       250\n   macro avg       0.57      0.57      0.55       250\nweighted avg       0.57      0.56      0.55       250\n\n"
    },
    {
     "output_type": "execute_result",
     "data": {
      "text/plain": "0.55"
     },
     "metadata": {},
     "execution_count": 32
    }
   ],
   "source": [
    "print(classification_report(testLabels, predictions, target_names = le.classes_)) \n",
    "#отсюда ответ в строчке macro avg, столбике f1-score (это задание, где нужно вывети среднее значение F1)\n",
    "predictions = model.predict(testData)\n",
    "round(f1_score(testLabels, predictions, average = 'macro'), 2)"
   ]
  },
  {
   "cell_type": "code",
   "execution_count": 15,
   "metadata": {},
   "outputs": [
    {
     "output_type": "execute_result",
     "data": {
      "text/plain": "0.0"
     },
     "metadata": {},
     "execution_count": 15
    }
   ],
   "source": [
    "model.coef_[0][448] #[0][x] x поменять на свой psi"
   ]
  },
  {
   "cell_type": "code",
   "execution_count": 18,
   "metadata": {},
   "outputs": [
    {
     "output_type": "execute_result",
     "data": {
      "text/plain": "0.0"
     },
     "metadata": {},
     "execution_count": 18
    }
   ],
   "source": [
    "round(model.coef_[0][241], 2) #[0][x] x поменять на свой psi"
   ]
  },
  {
   "cell_type": "code",
   "execution_count": 31,
   "metadata": {},
   "outputs": [
    {
     "output_type": "execute_result",
     "data": {
      "text/plain": "0.36"
     },
     "metadata": {},
     "execution_count": 31
    }
   ],
   "source": [
    "round(model.coef_[0][75], 2) #[0][x] x поменять на свой psi"
   ]
  },
  {
   "cell_type": "markdown",
   "metadata": {},
   "source": [
    "В ответах далее:\n",
    "\n",
    "    `array([0])` - ответ 0\n",
    "    `array([1])` - ответ 1"
   ]
  },
  {
   "cell_type": "code",
   "execution_count": 24,
   "metadata": {},
   "outputs": [
    {
     "output_type": "execute_result",
     "data": {
      "text/plain": "array([1], dtype=int64)"
     },
     "metadata": {},
     "execution_count": 24
    }
   ],
   "source": [
    "singleImage = cv2.imread('test/cat.1046.jpg') # имя первой картинки\n",
    "histt = extract_histogram(singleImage)\n",
    "histt2 = histt.reshape(1, -1)\n",
    "prediction = model.predict(histt2)\n",
    "prediction"
   ]
  },
  {
   "cell_type": "code",
   "execution_count": 27,
   "metadata": {},
   "outputs": [
    {
     "output_type": "execute_result",
     "data": {
      "text/plain": "array([0], dtype=int64)"
     },
     "metadata": {},
     "execution_count": 27
    }
   ],
   "source": [
    "singleImage = cv2.imread('test/dog.1016.jpg') # имя второй картинки\n",
    "histt = extract_histogram(singleImage)\n",
    "histt2 = histt.reshape(1, -1)\n",
    "prediction = model.predict(histt2)\n",
    "prediction"
   ]
  },
  {
   "cell_type": "code",
   "execution_count": 29,
   "metadata": {},
   "outputs": [
    {
     "output_type": "execute_result",
     "data": {
      "text/plain": "array([0], dtype=int64)"
     },
     "metadata": {},
     "execution_count": 29
    }
   ],
   "source": [
    "singleImage = cv2.imread('test/cat.1028.jpg') # имя третьей картинки\n",
    "histt = extract_histogram(singleImage)\n",
    "histt2 = histt.reshape(1, -1)\n",
    "prediction = model.predict(histt2)\n",
    "prediction"
   ]
  },
  {
   "cell_type": "code",
   "execution_count": 30,
   "metadata": {},
   "outputs": [
    {
     "output_type": "execute_result",
     "data": {
      "text/plain": "array([0], dtype=int64)"
     },
     "metadata": {},
     "execution_count": 30
    }
   ],
   "source": [
    "singleImage = cv2.imread('test/cat.1032.jpg') # имя четвертой картинки\n",
    "histt = extract_histogram(singleImage) \n",
    "histt2 = histt.reshape(1, -1)\n",
    "prediction = model.predict(histt2)\n",
    "prediction"
   ]
  }
 ],
 "metadata": {
  "kernelspec": {
   "display_name": "Python 3",
   "language": "python",
   "name": "python3"
  },
  "language_info": {
   "codemirror_mode": {
    "name": "ipython",
    "version": 3
   },
   "file_extension": ".py",
   "mimetype": "text/x-python",
   "name": "python",
   "nbconvert_exporter": "python",
   "pygments_lexer": "ipython3",
   "version": "3.8.1-final"
  }
 },
 "nbformat": 4,
 "nbformat_minor": 2
}