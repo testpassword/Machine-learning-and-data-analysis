{
 "cells": [
  {
   "cell_type": "markdown",
   "metadata": {
    "collapsed": true
   },
   "source": [
    "# Введение в Машинное обучение\n",
    "\n",
    "## Высшая Школа Цифровой Культуры\n",
    "\n",
    "## Материалы к лекции 5. K-Means."
   ]
  },
  {
   "cell_type": "markdown",
   "metadata": {},
   "source": [
    "Обработка данных"
   ]
  },
  {
   "cell_type": "code",
   "execution_count": 1,
   "metadata": {},
   "outputs": [],
   "source": [
    "#чтение данных, так как названия конфет уникальны, используем их в качестве индекса\n",
    "import numpy as np\n",
    "import pandas as pd\n",
    "DATA = pd.read_csv(\"kmeans.csv\", delimiter=',', index_col='Object')"
   ]
  },
  {
   "cell_type": "code",
   "execution_count": 2,
   "metadata": {},
   "outputs": [],
   "source": [
    "#удаление столбца Cluster из набора данных\n",
    "coords = DATA.drop('Cluster', axis=1)"
   ]
  },
  {
   "cell_type": "code",
   "execution_count": 3,
   "metadata": {},
   "outputs": [],
   "source": [
    "#подключение KMeans из библиотеки sklearn\n",
    "from sklearn.cluster import KMeans"
   ]
  },
  {
   "cell_type": "code",
   "execution_count": 4,
   "metadata": {},
   "outputs": [],
   "source": [
    "#координаты центроидов\n",
    "centroid = np.array([[11.6, 12.4], [12.13, 9.13], [1.5, 18.0]])"
   ]
  },
  {
   "cell_type": "code",
   "execution_count": 5,
   "metadata": {},
   "outputs": [],
   "source": [
    "#инициализация модели\n",
    "kmeans = KMeans(n_clusters=3, init=centroid, max_iter=100, n_init=1)"
   ]
  },
  {
   "cell_type": "code",
   "execution_count": 6,
   "metadata": {},
   "outputs": [],
   "source": [
    "#обучение модели на данных из coords\n",
    "model = kmeans.fit(coords)"
   ]
  },
  {
   "cell_type": "code",
   "execution_count": 7,
   "metadata": {},
   "outputs": [
    {
     "data": {
      "text/plain": [
       "[0, 1, 0, 1, 0, 0, 1, 2, 2, 0, 1, 2, 0, 2, 1]"
      ]
     },
     "execution_count": 7,
     "metadata": {},
     "output_type": "execute_result"
    }
   ],
   "source": [
    "#вывод назначенных кластеров\n",
    "model.labels_.tolist()"
   ]
  },
  {
   "cell_type": "code",
   "execution_count": 8,
   "metadata": {},
   "outputs": [],
   "source": [
    "#обучение модели и расчет расстояний до центроидов\n",
    "alldistances = kmeans.fit_transform(coords)"
   ]
  },
  {
   "cell_type": "code",
   "execution_count": 9,
   "metadata": {},
   "outputs": [
    {
     "data": {
      "text/plain": [
       "array([[1.6414763 , 8.24621125, 5.12957113],\n",
       "       [5.54025671, 2.23606798, 6.87840825],\n",
       "       [3.56292639, 8.54400375, 9.29045209],\n",
       "       [9.96800437, 4.47213595, 6.42748007],\n",
       "       [2.00693243, 6.08276253, 6.73145601],\n",
       "       [0.60092521, 7.        , 6.14918694],\n",
       "       [8.34831986, 1.        , 7.60345316],\n",
       "       [5.97448278, 7.81024968, 0.90138782],\n",
       "       [7.304869  , 8.06225775, 1.52069063],\n",
       "       [2.58736245, 8.54400375, 4.50693909],\n",
       "       [7.48517052, 1.        , 7.76611228],\n",
       "       [6.2472216 , 5.83095189, 1.3462912 ],\n",
       "       [1.53659074, 7.28010989, 4.45112345],\n",
       "       [4.20647649, 6.40312424, 1.67705098],\n",
       "       [6.80889941, 2.23606798, 8.17389136]])"
      ]
     },
     "execution_count": 9,
     "metadata": {},
     "output_type": "execute_result"
    }
   ],
   "source": [
    "#вывод расстояний от данных до всех центроидов\n",
    "alldistances"
   ]
  }
 ],
 "metadata": {
  "kernelspec": {
   "display_name": "Python 3.6",
   "language": "python",
   "name": "python36"
  },
  "language_info": {
   "codemirror_mode": {
    "name": "ipython",
    "version": 3
   },
   "file_extension": ".py",
   "mimetype": "text/x-python",
   "name": "python",
   "nbconvert_exporter": "python",
   "pygments_lexer": "ipython3",
   "version": "3.6.6"
  }
 },
 "nbformat": 4,
 "nbformat_minor": 2
}
