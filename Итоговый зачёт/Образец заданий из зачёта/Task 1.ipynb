{
  "cells": [
    {
      "metadata": {
        "collapsed": true
      },
      "cell_type": "markdown",
      "source": [
        "# 1 часть."
      ]
    },
    {
      "metadata": {},
      "cell_type": "markdown",
      "source": [
        "Первое задание.\n",
        "\n",
        "Зайдите в базу данных (инструкция есть на openedu) и введите следующий код:\n",
        "SELECT COUNT(*) FROM pulsar_stars WHERE (TARGET = 0 AND MIP BETWEEN Значение_1 AND Значение_2) OR (TARGET = 1 AND MIP BETWEEN Значение_1 AND Значение_2)\n",
        "\n",
        "Пример для тестового задания (не знаю одинаковое ли оно для всех или нет).\n",
        "SELECT COUNT(*) FROM pulsar_stars WHERE (TARGET = 0 AND MIP BETWEEN 83 AND 84) OR (TARGET = 1 AND MIP BETWEEN 83 AND 89)\n",
        "Ответ 136."
      ]
    },
    {
      "metadata": {},
      "cell_type": "markdown",
      "source": [
        "Второе задание.\n",
        "Пишем в БД этот код с подставленными значениями:\n",
        "SELECT * FROM pulsar_stars WHERE (TARGET = 0 AND MIP BETWEEN Значение_1 AND Значение_2) OR (TARGET = 1 AND MIP BETWEEN Значение_1 AND Значение_2)\n",
        "\n",
        "В окошке результатов снизу жмем на кнопочку download.\n",
        "\n",
        "Закидываем скачанный report.csv файл на азур в одну папочку с нотбуком, в котором будете делать задание."
      ]
    },
    {
      "metadata": {
        "trusted": true
      },
      "cell_type": "code",
      "source": [
        "#импортируем всякую чепуху\n",
        "import numpy as np\n",
        "import pandas as pd\n",
        "from pandas import Series, DataFrame\n",
        "from sklearn.preprocessing import MinMaxScaler\n",
        "\n",
        "#Читаем определенные столбцы данных из скачанного файла\n",
        "data = pd.read_csv('report.csv',\n",
        "                   usecols=['MIP','STDIP','EKIP','SIP','MC','STDC','EKC','SC'])\n",
        "\n",
        "#Находим выборочное среднее для MIP после нормировки\n",
        "data = MinMaxScaler().fit_transform(data)\n",
        "avr = data.mean(axis = 0)\n",
        "avr[0]"
      ],
      "execution_count": 1,
      "outputs": [
        {
          "output_type": "execute_result",
          "data": {
            "text/plain": "0.26595638255302184"
          },
          "metadata": {},
          "execution_count": 1
        }
      ]
    },
    {
      "metadata": {},
      "cell_type": "markdown",
      "source": [
        "Третье задание."
      ]
    },
    {
      "metadata": {
        "trusted": true
      },
      "cell_type": "code",
      "source": [
        "#Подключаем модель логистической регрессии из библиотеки sklearn\n",
        "from sklearn.linear_model import LogisticRegression\n",
        "\n",
        "#Отбираем данные для предсказаний\n",
        "y = pd.read_csv('report.csv',\n",
        "               usecols=['TARGET'])\n",
        "\n",
        "#Обучаем модель\n",
        "reg = LogisticRegression(random_state=2019, solver='lbfgs').fit(data, y.values.ravel())\n",
        "\n",
        "#Вводим свои параметры в скобочки и получаем предсказание отнесения нашей звезды\n",
        "#Первое число - вероятность отнесения к не пульсару, второе - к пульсару\n",
        "reg.predict_proba([[0.1,0.1,0.1,0.1,0.1,0.1,0.1,0.1]])"
      ],
      "execution_count": 2,
      "outputs": [
        {
          "output_type": "execute_result",
          "data": {
            "text/plain": "array([[0.72644503, 0.27355497]])"
          },
          "metadata": {},
          "execution_count": 2
        }
      ]
    },
    {
      "metadata": {},
      "cell_type": "markdown",
      "source": [
        "Четвертое задание."
      ]
    },
    {
      "metadata": {
        "trusted": true
      },
      "cell_type": "code",
      "source": [
        "#Подключаем модуль для нахождения расстояния между соседями\n",
        "from sklearn.neighbors import KNeighborsClassifier\n",
        "\n",
        "#n_neigbours - количество соседей, p = 1 - Манхэттенское расстояние, p = 2 - евклидово\n",
        "#Кол-во соседей ставим равное кол-ву звезд в полученной ранее выборке (136 для нас)\n",
        "neigh = KNeighborsClassifier(n_neighbors=136, p=1)\n",
        "neigh.fit(data, y.values.ravel())\n",
        "\n",
        "#Создаем нашу новую звездочку как самостоятельный независимый объект\n",
        "Star = [0.1,0.1,0.1,0.1,0.1,0.1,0.1,0.1]\n",
        "\n",
        "#Ищем расстояние до нашего ближайшего соседа в этом жестоком звездном мире\n",
        "neigh.kneighbors([Star])[0][0][0]"
      ],
      "execution_count": 5,
      "outputs": [
        {
          "output_type": "execute_result",
          "data": {
            "text/plain": "0.5478999978926339"
          },
          "metadata": {},
          "execution_count": 5
        }
      ]
    }
  ],
  "metadata": {
    "kernelspec": {
      "name": "python38164bitfdd17f32668546a5ae7574a2749c4b27",
      "display_name": "Python 3.8.1 64-bit",
      "language": "python"
    },
    "language_info": {
      "mimetype": "text/x-python",
      "nbconvert_exporter": "python",
      "name": "python",
      "pygments_lexer": "ipython3",
      "version": "3.8.1-final",
      "file_extension": ".py",
      "codemirror_mode": {
        "version": 3,
        "name": "ipython"
      }
    }
  },
  "nbformat": 4,
  "nbformat_minor": 2
}